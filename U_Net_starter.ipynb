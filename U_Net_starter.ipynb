{
  "nbformat": 4,
  "nbformat_minor": 0,
  "metadata": {
    "colab": {
      "name": "U-Net starter",
      "provenance": [],
      "authorship_tag": "ABX9TyOOyamQwg3wsNMU0nTJzAk8",
      "include_colab_link": true
    },
    "kernelspec": {
      "name": "python3",
      "display_name": "Python 3"
    },
    "language_info": {
      "name": "python"
    },
    "accelerator": "GPU"
  },
  "cells": [
    {
      "cell_type": "markdown",
      "metadata": {
        "id": "view-in-github",
        "colab_type": "text"
      },
      "source": [
        "<a href=\"https://colab.research.google.com/github/shonyeajin/kaggle_intro/blob/main/U_Net_starter.ipynb\" target=\"_parent\"><img src=\"https://colab.research.google.com/assets/colab-badge.svg\" alt=\"Open In Colab\"/></a>"
      ]
    },
    {
      "cell_type": "code",
      "source": [
        "!pip install kaggle\n",
        "from google.colab import files\n",
        "files.upload()"
      ],
      "metadata": {
        "colab": {
          "resources": {
            "http://localhost:8080/nbextensions/google.colab/files.js": {
              "data": "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",
              "ok": true,
              "headers": [
                [
                  "content-type",
                  "application/javascript"
                ]
              ],
              "status": 200,
              "status_text": ""
            }
          },
          "base_uri": "https://localhost:8080/",
          "height": 317
        },
        "id": "YDWc82wF9u8E",
        "outputId": "ceadcefd-79ee-4c66-e2ce-bdb66eb07743"
      },
      "execution_count": 4,
      "outputs": [
        {
          "output_type": "stream",
          "name": "stdout",
          "text": [
            "Requirement already satisfied: kaggle in /usr/local/lib/python3.7/dist-packages (1.5.12)\n",
            "Requirement already satisfied: requests in /usr/local/lib/python3.7/dist-packages (from kaggle) (2.23.0)\n",
            "Requirement already satisfied: six>=1.10 in /usr/local/lib/python3.7/dist-packages (from kaggle) (1.15.0)\n",
            "Requirement already satisfied: python-dateutil in /usr/local/lib/python3.7/dist-packages (from kaggle) (2.8.2)\n",
            "Requirement already satisfied: tqdm in /usr/local/lib/python3.7/dist-packages (from kaggle) (4.62.3)\n",
            "Requirement already satisfied: urllib3 in /usr/local/lib/python3.7/dist-packages (from kaggle) (1.24.3)\n",
            "Requirement already satisfied: certifi in /usr/local/lib/python3.7/dist-packages (from kaggle) (2021.10.8)\n",
            "Requirement already satisfied: python-slugify in /usr/local/lib/python3.7/dist-packages (from kaggle) (5.0.2)\n",
            "Requirement already satisfied: text-unidecode>=1.3 in /usr/local/lib/python3.7/dist-packages (from python-slugify->kaggle) (1.3)\n",
            "Requirement already satisfied: idna<3,>=2.5 in /usr/local/lib/python3.7/dist-packages (from requests->kaggle) (2.10)\n",
            "Requirement already satisfied: chardet<4,>=3.0.2 in /usr/local/lib/python3.7/dist-packages (from requests->kaggle) (3.0.4)\n"
          ]
        },
        {
          "output_type": "display_data",
          "data": {
            "text/html": [
              "\n",
              "     <input type=\"file\" id=\"files-45aacc0f-3e1c-459a-93d7-290015bdd3cb\" name=\"files[]\" multiple disabled\n",
              "        style=\"border:none\" />\n",
              "     <output id=\"result-45aacc0f-3e1c-459a-93d7-290015bdd3cb\">\n",
              "      Upload widget is only available when the cell has been executed in the\n",
              "      current browser session. Please rerun this cell to enable.\n",
              "      </output>\n",
              "      <script src=\"/nbextensions/google.colab/files.js\"></script> "
            ],
            "text/plain": [
              "<IPython.core.display.HTML object>"
            ]
          },
          "metadata": {}
        },
        {
          "output_type": "stream",
          "name": "stdout",
          "text": [
            "Saving kaggle.json to kaggle.json\n"
          ]
        },
        {
          "output_type": "execute_result",
          "data": {
            "text/plain": [
              "{'kaggle.json': b'{\"username\":\"yeajinshon\",\"key\":\"5d9263b1f17cbceaaf414658d4f7f975\"}'}"
            ]
          },
          "metadata": {},
          "execution_count": 4
        }
      ]
    },
    {
      "cell_type": "code",
      "source": [
        "ls -1ha kaggle.json"
      ],
      "metadata": {
        "colab": {
          "base_uri": "https://localhost:8080/"
        },
        "id": "lKNpMlJJ93so",
        "outputId": "34f83265-0a11-4e91-96de-d3fcbce19634"
      },
      "execution_count": 5,
      "outputs": [
        {
          "output_type": "stream",
          "name": "stdout",
          "text": [
            "kaggle.json\n"
          ]
        }
      ]
    },
    {
      "cell_type": "code",
      "source": [
        "from IPython.core.display import JSON"
      ],
      "metadata": {
        "id": "uioq3LB594HS"
      },
      "execution_count": 6,
      "outputs": []
    },
    {
      "cell_type": "code",
      "source": [
        "!mkdir -p ~/.kaggle\n",
        "!cp kaggle.json ~/.kaggle\n",
        "\n",
        "!chmod 600 ~/.kaggle/kaggle.json"
      ],
      "metadata": {
        "id": "4xLv1Siw939M"
      },
      "execution_count": 7,
      "outputs": []
    },
    {
      "cell_type": "code",
      "source": [
        "!kaggle competitions download -c data-science-bowl-2018"
      ],
      "metadata": {
        "colab": {
          "base_uri": "https://localhost:8080/"
        },
        "id": "ZgpWIA49-NyI",
        "outputId": "42016a41-6f71-448d-8260-145bbaf91c12"
      },
      "execution_count": 8,
      "outputs": [
        {
          "output_type": "stream",
          "name": "stdout",
          "text": [
            "Warning: Looks like you're using an outdated API Version, please consider updating (server 1.5.12 / client 1.5.4)\n",
            "Downloading stage1_sample_submission.csv.zip to /content\n",
            "  0% 0.00/2.62k [00:00<?, ?B/s]\n",
            "100% 2.62k/2.62k [00:00<00:00, 1.97MB/s]\n",
            "Downloading stage2_sample_submission_final.csv.zip to /content\n",
            "  0% 0.00/112k [00:00<?, ?B/s]\n",
            "100% 112k/112k [00:00<00:00, 35.8MB/s]\n",
            "Downloading stage2_test_final.zip to /content\n",
            " 96% 264M/276M [00:01<00:00, 163MB/s]\n",
            "100% 276M/276M [00:01<00:00, 148MB/s]\n",
            "Downloading stage1_test.zip to /content\n",
            " 77% 7.00M/9.10M [00:00<00:00, 72.8MB/s]\n",
            "100% 9.10M/9.10M [00:00<00:00, 77.3MB/s]\n",
            "Downloading stage1_train_labels.csv.zip to /content\n",
            "  0% 0.00/2.67M [00:00<?, ?B/s]\n",
            "100% 2.67M/2.67M [00:00<00:00, 167MB/s]\n",
            "Downloading stage1_train.zip to /content\n",
            " 92% 73.0M/79.1M [00:00<00:00, 69.7MB/s]\n",
            "100% 79.1M/79.1M [00:00<00:00, 85.5MB/s]\n",
            "Downloading stage1_solution.csv.zip to /content\n",
            "  0% 0.00/386k [00:00<?, ?B/s]\n",
            "100% 386k/386k [00:00<00:00, 105MB/s]\n"
          ]
        }
      ]
    },
    {
      "cell_type": "code",
      "source": [
        "!mkdir input"
      ],
      "metadata": {
        "id": "3a_bAGHR-Ne7"
      },
      "execution_count": 9,
      "outputs": []
    },
    {
      "cell_type": "code",
      "source": [
        "!mkdir input/stage1_train"
      ],
      "metadata": {
        "id": "EZpjF9D3-XAK"
      },
      "execution_count": 10,
      "outputs": []
    },
    {
      "cell_type": "code",
      "source": [
        "!unzip stage1_train.zip -d ./input/stage1_train"
      ],
      "metadata": {
        "id": "7jZhU2Fd-W-J"
      },
      "execution_count": null,
      "outputs": []
    },
    {
      "cell_type": "code",
      "source": [
        "!mkdir input/stage1_test"
      ],
      "metadata": {
        "id": "ixAyIpk9-vND"
      },
      "execution_count": 12,
      "outputs": []
    },
    {
      "cell_type": "code",
      "source": [
        "!unzip stage1_test.zip -d ./input/stage1_test"
      ],
      "metadata": {
        "id": "kRtx-C-N-yqP"
      },
      "execution_count": null,
      "outputs": []
    },
    {
      "cell_type": "code",
      "execution_count": 17,
      "metadata": {
        "id": "vGTJgrUG64q_"
      },
      "outputs": [],
      "source": [
        "import os\n",
        "import sys\n",
        "import random\n",
        "import warnings\n",
        "\n",
        "import numpy as np\n",
        "import pandas as pd\n",
        "\n",
        "import matplotlib.pyplot as plt\n",
        "\n",
        "from tqdm import tqdm\n",
        "from itertools import chain\n",
        "from skimage.io import imread, imshow, imread_collection, concatenate_images\n",
        "from skimage.transform import resize\n",
        "from skimage.morphology import label\n",
        "\n",
        "from keras.models import Model, load_model\n",
        "from keras.layers import Input\n",
        "from keras.layers.core import Dropout, Lambda\n",
        "from keras.layers.convolutional import Conv2D, Conv2DTranspose\n",
        "from keras.layers.merge import concatenate\n",
        "from keras.callbacks import EarlyStopping, ModelCheckpoint\n",
        "from keras import backend as K\n",
        "\n",
        "import tensorflow as tf\n",
        "\n",
        "IMG_WIDTH=128\n",
        "IMG_HEIGHT=128\n",
        "IMG_CHANNELS=3\n",
        "TRAIN_PATH='./input/stage1_train/'\n",
        "TEST_PATH='./input/stage1_test/'\n",
        "\n",
        "warnings.filterwarnings('ignore', category=UserWarning, module='skimage')\n",
        "seed=42\n",
        "random.seed=seed\n",
        "np.random.seed=seed"
      ]
    },
    {
      "cell_type": "code",
      "source": [
        "train_ids=next(os.walk(TRAIN_PATH))[1]\n",
        "test_ids=next(os.walk(TEST_PATH))[1]"
      ],
      "metadata": {
        "id": "kSWggqng8t7e"
      },
      "execution_count": 22,
      "outputs": []
    },
    {
      "cell_type": "code",
      "source": [
        "X_train=np.zeros((len(train_ids), IMG_HEIGHT, IMG_WIDTH, IMG_CHANNELS), dtype=np.uint8)\n",
        "Y_train=np.zeros((len(train_ids), IMG_HEIGHT,IMG_WIDTH, 1), dtype=np.bool)\n",
        "print('Getting and resizing train images and masks...')\n",
        "\n",
        "sys.stdout.flush()\n",
        "\n",
        "for n, id_ in tqdm(enumerate(train_ids), total=len(train_ids)):\n",
        "  path=TRAIN_PATH+id_\n",
        "  img=imread(path+'/images/'+id_+'.png')[:,:,:IMG_CHANNELS]\n",
        "  img=resize(img, (IMG_HEIGHT, IMG_WIDTH), mode='constant', preserve_range=True)\n",
        "  X_train[n]=img\n",
        "  mask=np.zeros((IMG_HEIGHT, IMG_WIDTH, 1), dtype=np.bool)\n",
        "  for mask_file in next(os.walk(path+'/masks/'))[2]:\n",
        "    mask_=imread(path+'/masks/'+mask_file)\n",
        "    mask_=np.expand_dims(resize(mask_, (IMG_HEIGHT, IMG_WIDTH), mode='constant', preserve_range=True), axis=-1)\n",
        "    mask=np.maximum(mask, mask_)\n",
        "  Y_train[n]=mask\n",
        "\n"
      ],
      "metadata": {
        "colab": {
          "base_uri": "https://localhost:8080/"
        },
        "id": "OS5KpTU9AUIe",
        "outputId": "b93a4c37-b22e-4050-a48b-894ee5461f0a"
      },
      "execution_count": 111,
      "outputs": [
        {
          "output_type": "stream",
          "name": "stdout",
          "text": [
            "Getting and resizing train images and masks...\n"
          ]
        },
        {
          "output_type": "stream",
          "name": "stderr",
          "text": [
            "100%|██████████| 670/670 [07:27<00:00,  1.50it/s]\n"
          ]
        }
      ]
    },
    {
      "cell_type": "code",
      "source": [
        "X_test=np.zeros((len(test_ids), IMG_HEIGHT, IMG_WIDTH, IMG_CHANNELS), dtype=np.uint8)\n",
        "sizes_test=[]\n",
        "print('Getting and resizing test images...')\n",
        "sys.stdout.flush()\n",
        "for n, id_ in tqdm(enumerate(test_ids), total=len(test_ids)):\n",
        "  path=TEST_PATH+id_\n",
        "  img=imread(path +'/images/'+id_+'.png')[:,:,:IMG_CHANNELS]\n",
        "  sizes_test.append([img.shape[0], img.shape[1]])\n",
        "  img=resize(img, (IMG_HEIGHT, IMG_WIDTH), mode='constant', preserve_range=True)\n",
        "  X_test[n]=img\n",
        "print('Done!')"
      ],
      "metadata": {
        "colab": {
          "base_uri": "https://localhost:8080/"
        },
        "id": "khAaWS_HGr1g",
        "outputId": "de56064f-16de-4834-ff95-94b05163fbfd"
      },
      "execution_count": 113,
      "outputs": [
        {
          "output_type": "stream",
          "name": "stdout",
          "text": [
            "Getting and resizing test images...\n"
          ]
        },
        {
          "output_type": "stream",
          "name": "stderr",
          "text": [
            "100%|██████████| 65/65 [00:02<00:00, 31.30it/s]"
          ]
        },
        {
          "output_type": "stream",
          "name": "stdout",
          "text": [
            "Done!\n"
          ]
        },
        {
          "output_type": "stream",
          "name": "stderr",
          "text": [
            "\n"
          ]
        }
      ]
    },
    {
      "cell_type": "code",
      "source": [
        "ix=random.randint(0, len(train_ids))\n",
        "imshow(X_train[ix])\n",
        "plt.show()\n",
        "imshow(np.squeeze(Y_train[ix]))\n",
        "plt.show()"
      ],
      "metadata": {
        "colab": {
          "base_uri": "https://localhost:8080/",
          "height": 576
        },
        "id": "FgghKKmOLlNo",
        "outputId": "ed779b86-66a1-4fe5-d380-5ea3e1864b65"
      },
      "execution_count": 114,
      "outputs": [
        {
          "output_type": "display_data",
          "data": {
            "image/png": "[encoded data removed]",
            "text/plain": [
              "<Figure size 432x288 with 1 Axes>"
            ]
          },
          "metadata": {
            "needs_background": "light"
          }
        },
        {
          "output_type": "display_data",
          "data": {
            "image/png": "[encoded data removed]",
            "text/plain": [
              "<Figure size 432x288 with 1 Axes>"
            ]
          },
          "metadata": {
            "needs_background": "light"
          }
        }
      ]
    },
    {
      "cell_type": "code",
      "source": [
        "def mean_iou(y_true, y_pred):\n",
        "  prec=[]\n",
        "  for t in np.arange(0.5, 1, 0.05):\n",
        "    y_pred_=tf.compat.v1.to_int32(y_pred > t)\n",
        "    score, up_opt=tf.compat.v1.metrics.mean_iou(y_true, y_pred_,2)\n",
        "    K.get_session().run(tf.local_variable_initializer())\n",
        "    with tf.control_dependencies([up_opt]):\n",
        "      score=tf.identity(score)\n",
        "    prec.append(score)\n",
        "  print(K.stack(prec))\n",
        "  return K.mean(K.stack(prec), axis=0)"
      ],
      "metadata": {
        "id": "on6lrF1QMg6p"
      },
      "execution_count": 132,
      "outputs": []
    },
    {
      "cell_type": "code",
      "source": [
        "#Build U-Net model\n",
        "from tensorflow.keras.layers import MaxPooling2D\n",
        "\n",
        "inputs=Input((IMG_HEIGHT, IMG_WIDTH, IMG_CHANNELS))\n",
        "s=Lambda(lambda x:x/255) (inputs)\n",
        "\n",
        "c1=Conv2D(16,(3,3), activation='elu', kernel_initializer='he_normal', padding='same')(s)\n",
        "c1=Dropout(0.1)(c1)\n",
        "c1=Conv2D(16,(3,3), activation='elu', kernel_initializer='he_normal', padding='same')(c1)\n",
        "p1=MaxPooling2D((2,2))(c1)\n"
      ],
      "metadata": {
        "id": "NPM3o2a9Pn95"
      },
      "execution_count": 116,
      "outputs": []
    },
    {
      "cell_type": "code",
      "source": [
        "c2=Conv2D(32, (3,3), activation='elu', kernel_initializer='he_normal', padding='same')(p1)\n",
        "c2=Dropout(0.1)(c2)\n",
        "c2=Conv2D(32, (3,3), activation='elu', kernel_initializer='he_normal', padding='same')(c2)\n",
        "p2=MaxPooling2D((2,2))(c2)"
      ],
      "metadata": {
        "id": "cpGscb78Rwnw"
      },
      "execution_count": 117,
      "outputs": []
    },
    {
      "cell_type": "code",
      "source": [
        "c3=Conv2D(64, (3,3), activation='elu', kernel_initializer='he_normal', padding='same')(p2)\n",
        "c3=Dropout(0.2)(c3)\n",
        "c3=Conv2D(64, (3,3), activation='elu', kernel_initializer='he_normal', padding='same')(c3)\n",
        "p3=MaxPooling2D((2,2))(c3)"
      ],
      "metadata": {
        "id": "N6_kBqICSW7q"
      },
      "execution_count": 118,
      "outputs": []
    },
    {
      "cell_type": "code",
      "source": [
        "c4=Conv2D(128, (3,3), activation='elu', kernel_initializer='he_normal', padding='same')(p3)\n",
        "c4=Dropout(0.2)(c4)\n",
        "c4=Conv2D(128, (3,3), activation='elu', kernel_initializer='he_normal', padding='same')(c4)\n",
        "p4=MaxPooling2D((2,2))(c4)"
      ],
      "metadata": {
        "id": "GiY0n5VZStO9"
      },
      "execution_count": 119,
      "outputs": []
    },
    {
      "cell_type": "code",
      "source": [
        "c5=Conv2D(256, (3,3), activation='elu', kernel_initializer='he_normal', padding='same')(p4)\n",
        "c5=Dropout(0.3)(c5)\n",
        "c5=Conv2D(256, (3,3), activation='elu', kernel_initializer='he_normal', padding='same')(c5)\n",
        "p5=MaxPooling2D((2,2))(c5)"
      ],
      "metadata": {
        "id": "mr_CqP-7S56U"
      },
      "execution_count": 120,
      "outputs": []
    },
    {
      "cell_type": "code",
      "source": [
        "u6=Conv2DTranspose(128, (2,2), strides=(2,2), padding='same')(c5)\n",
        "u6=concatenate([u6, c4])\n",
        "c6=Conv2D(128, (3,3), activation='elu', kernel_initializer='he_normal', padding='same')(u6)\n",
        "c6=Dropout(0.2)(c6)\n",
        "c6=Conv2D(128, (3,3), activation='elu', kernel_initializer='he_normal', padding='same')(c6)"
      ],
      "metadata": {
        "id": "DP-A37I6TFFO"
      },
      "execution_count": 121,
      "outputs": []
    },
    {
      "cell_type": "code",
      "source": [
        "u7=Conv2DTranspose(64, (2,2), strides=(2,2), padding='same')(c6)\n",
        "u7=concatenate([u7,c3])\n",
        "c7=Conv2D(64, (3,3), activation='elu', kernel_initializer='he_normal', padding='same')(u7)\n",
        "c7=Dropout(0.2)(c7)\n",
        "c7=Conv2D(64,(3,3), activation='elu', kernel_initializer='he_normal', padding='same')(c7)\n"
      ],
      "metadata": {
        "id": "PTEOspedUVF1"
      },
      "execution_count": 122,
      "outputs": []
    },
    {
      "cell_type": "code",
      "source": [
        "u8=Conv2DTranspose(32, (2,2), strides=(2,2), padding='same')(c7)\n",
        "u8=concatenate([u8,c2])\n",
        "c8=Conv2D(32, (3,3), activation='elu', kernel_initializer='he_normal', padding='same')(u8)\n",
        "c8=Dropout(0.1)(c8)\n",
        "c8=Conv2D(32,(3,3), activation='elu', kernel_initializer='he_normal', padding='same')(c8)\n"
      ],
      "metadata": {
        "id": "bR439GGxVjjn"
      },
      "execution_count": 123,
      "outputs": []
    },
    {
      "cell_type": "code",
      "source": [
        "u9=Conv2DTranspose(16, (2,2), strides=(2,2), padding='same')(c8)\n",
        "u9=concatenate([u9,c1], axis=3)\n",
        "c9=Conv2D(16, (3,3), activation='elu', kernel_initializer='he_normal', padding='same')(u9)\n",
        "c9=Dropout(0.1)(c9)\n",
        "c9=Conv2D(16,(3,3), activation='elu', kernel_initializer='he_normal', padding='same')(c9)\n"
      ],
      "metadata": {
        "id": "BmLJq1yFV9e5"
      },
      "execution_count": 124,
      "outputs": []
    },
    {
      "cell_type": "code",
      "source": [
        "outputs=Conv2D(1,(1,1), activation='sigmoid')(c9)\n",
        "\n",
        "from tensorflow.keras import Model\n",
        "\n",
        "model=Model(inputs=[inputs], outputs=[outputs])\n",
        "model.compile(optimizer='adam', loss='binary_crossentropy', metrics=['acc'])\n",
        "model.summary()"
      ],
      "metadata": {
        "colab": {
          "base_uri": "https://localhost:8080/"
        },
        "id": "1hOZSNX-WlKT",
        "outputId": "fde3d53a-45ff-4128-9646-07e80ddf19cc"
      },
      "execution_count": 138,
      "outputs": [
        {
          "output_type": "stream",
          "name": "stdout",
          "text": [
            "Model: \"model_14\"\n",
            "__________________________________________________________________________________________________\n",
            " Layer (type)                   Output Shape         Param #     Connected to                     \n",
            "==================================================================================================\n",
            " input_7 (InputLayer)           [(None, 128, 128, 3  0           []                               \n",
            "                                )]                                                                \n",
            "                                                                                                  \n",
            " lambda_6 (Lambda)              (None, 128, 128, 3)  0           ['input_7[0][0]']                \n",
            "                                                                                                  \n",
            " conv2d_96 (Conv2D)             (None, 128, 128, 16  448         ['lambda_6[0][0]']               \n",
            "                                )                                                                 \n",
            "                                                                                                  \n",
            " dropout_44 (Dropout)           (None, 128, 128, 16  0           ['conv2d_96[0][0]']              \n",
            "                                )                                                                 \n",
            "                                                                                                  \n",
            " conv2d_97 (Conv2D)             (None, 128, 128, 16  2320        ['dropout_44[0][0]']             \n",
            "                                )                                                                 \n",
            "                                                                                                  \n",
            " max_pooling2d_24 (MaxPooling2D  (None, 64, 64, 16)  0           ['conv2d_97[0][0]']              \n",
            " )                                                                                                \n",
            "                                                                                                  \n",
            " conv2d_98 (Conv2D)             (None, 64, 64, 32)   4640        ['max_pooling2d_24[0][0]']       \n",
            "                                                                                                  \n",
            " dropout_45 (Dropout)           (None, 64, 64, 32)   0           ['conv2d_98[0][0]']              \n",
            "                                                                                                  \n",
            " conv2d_99 (Conv2D)             (None, 64, 64, 32)   9248        ['dropout_45[0][0]']             \n",
            "                                                                                                  \n",
            " max_pooling2d_25 (MaxPooling2D  (None, 32, 32, 32)  0           ['conv2d_99[0][0]']              \n",
            " )                                                                                                \n",
            "                                                                                                  \n",
            " conv2d_100 (Conv2D)            (None, 32, 32, 64)   18496       ['max_pooling2d_25[0][0]']       \n",
            "                                                                                                  \n",
            " dropout_46 (Dropout)           (None, 32, 32, 64)   0           ['conv2d_100[0][0]']             \n",
            "                                                                                                  \n",
            " conv2d_101 (Conv2D)            (None, 32, 32, 64)   36928       ['dropout_46[0][0]']             \n",
            "                                                                                                  \n",
            " max_pooling2d_26 (MaxPooling2D  (None, 16, 16, 64)  0           ['conv2d_101[0][0]']             \n",
            " )                                                                                                \n",
            "                                                                                                  \n",
            " conv2d_102 (Conv2D)            (None, 16, 16, 128)  73856       ['max_pooling2d_26[0][0]']       \n",
            "                                                                                                  \n",
            " dropout_47 (Dropout)           (None, 16, 16, 128)  0           ['conv2d_102[0][0]']             \n",
            "                                                                                                  \n",
            " conv2d_103 (Conv2D)            (None, 16, 16, 128)  147584      ['dropout_47[0][0]']             \n",
            "                                                                                                  \n",
            " max_pooling2d_27 (MaxPooling2D  (None, 8, 8, 128)   0           ['conv2d_103[0][0]']             \n",
            " )                                                                                                \n",
            "                                                                                                  \n",
            " conv2d_104 (Conv2D)            (None, 8, 8, 256)    295168      ['max_pooling2d_27[0][0]']       \n",
            "                                                                                                  \n",
            " dropout_48 (Dropout)           (None, 8, 8, 256)    0           ['conv2d_104[0][0]']             \n",
            "                                                                                                  \n",
            " conv2d_105 (Conv2D)            (None, 8, 8, 256)    590080      ['dropout_48[0][0]']             \n",
            "                                                                                                  \n",
            " conv2d_transpose_20 (Conv2DTra  (None, 16, 16, 128)  131200     ['conv2d_105[0][0]']             \n",
            " nspose)                                                                                          \n",
            "                                                                                                  \n",
            " concatenate_20 (Concatenate)   (None, 16, 16, 256)  0           ['conv2d_transpose_20[0][0]',    \n",
            "                                                                  'conv2d_103[0][0]']             \n",
            "                                                                                                  \n",
            " conv2d_106 (Conv2D)            (None, 16, 16, 128)  295040      ['concatenate_20[0][0]']         \n",
            "                                                                                                  \n",
            " dropout_49 (Dropout)           (None, 16, 16, 128)  0           ['conv2d_106[0][0]']             \n",
            "                                                                                                  \n",
            " conv2d_107 (Conv2D)            (None, 16, 16, 128)  147584      ['dropout_49[0][0]']             \n",
            "                                                                                                  \n",
            " conv2d_transpose_21 (Conv2DTra  (None, 32, 32, 64)  32832       ['conv2d_107[0][0]']             \n",
            " nspose)                                                                                          \n",
            "                                                                                                  \n",
            " concatenate_21 (Concatenate)   (None, 32, 32, 128)  0           ['conv2d_transpose_21[0][0]',    \n",
            "                                                                  'conv2d_101[0][0]']             \n",
            "                                                                                                  \n",
            " conv2d_108 (Conv2D)            (None, 32, 32, 64)   73792       ['concatenate_21[0][0]']         \n",
            "                                                                                                  \n",
            " dropout_50 (Dropout)           (None, 32, 32, 64)   0           ['conv2d_108[0][0]']             \n",
            "                                                                                                  \n",
            " conv2d_109 (Conv2D)            (None, 32, 32, 64)   36928       ['dropout_50[0][0]']             \n",
            "                                                                                                  \n",
            " conv2d_transpose_22 (Conv2DTra  (None, 64, 64, 32)  8224        ['conv2d_109[0][0]']             \n",
            " nspose)                                                                                          \n",
            "                                                                                                  \n",
            " concatenate_22 (Concatenate)   (None, 64, 64, 64)   0           ['conv2d_transpose_22[0][0]',    \n",
            "                                                                  'conv2d_99[0][0]']              \n",
            "                                                                                                  \n",
            " conv2d_110 (Conv2D)            (None, 64, 64, 32)   18464       ['concatenate_22[0][0]']         \n",
            "                                                                                                  \n",
            " dropout_51 (Dropout)           (None, 64, 64, 32)   0           ['conv2d_110[0][0]']             \n",
            "                                                                                                  \n",
            " conv2d_111 (Conv2D)            (None, 64, 64, 32)   9248        ['dropout_51[0][0]']             \n",
            "                                                                                                  \n",
            " conv2d_transpose_23 (Conv2DTra  (None, 128, 128, 16  2064       ['conv2d_111[0][0]']             \n",
            " nspose)                        )                                                                 \n",
            "                                                                                                  \n",
            " concatenate_23 (Concatenate)   (None, 128, 128, 32  0           ['conv2d_transpose_23[0][0]',    \n",
            "                                )                                 'conv2d_97[0][0]']              \n",
            "                                                                                                  \n",
            " conv2d_112 (Conv2D)            (None, 128, 128, 16  4624        ['concatenate_23[0][0]']         \n",
            "                                )                                                                 \n",
            "                                                                                                  \n",
            " dropout_52 (Dropout)           (None, 128, 128, 16  0           ['conv2d_112[0][0]']             \n",
            "                                )                                                                 \n",
            "                                                                                                  \n",
            " conv2d_113 (Conv2D)            (None, 128, 128, 16  2320        ['dropout_52[0][0]']             \n",
            "                                )                                                                 \n",
            "                                                                                                  \n",
            " conv2d_121 (Conv2D)            (None, 128, 128, 1)  17          ['conv2d_113[0][0]']             \n",
            "                                                                                                  \n",
            "==================================================================================================\n",
            "Total params: 1,941,105\n",
            "Trainable params: 1,941,105\n",
            "Non-trainable params: 0\n",
            "__________________________________________________________________________________________________\n"
          ]
        }
      ]
    },
    {
      "cell_type": "markdown",
      "source": [
        "위에서 정의한 mean_iou함수를 metrics에 넣어 compile 했을 때 nonetype object is not collable erorr가 발생하여 우선 acc 로 변경하였음"
      ],
      "metadata": {
        "id": "xvUoltnUlr-S"
      }
    },
    {
      "cell_type": "code",
      "source": [
        "earlystopper=EarlyStopping(patience=5, verbose=1)\n",
        "checkpointer=ModelCheckpoint('model-dsbow12018-1.h5', verbose=1, save_best_only=True)\n",
        "results=model.fit(X_train, Y_train, validation_split=0.1, batch_size=16, epochs=50, callbacks=[earlystopper, checkpointer])"
      ],
      "metadata": {
        "colab": {
          "base_uri": "https://localhost:8080/"
        },
        "id": "IsduWMYpW5mP",
        "outputId": "6f9ade23-534e-4eb1-e098-f1112532e5f9"
      },
      "execution_count": 139,
      "outputs": [
        {
          "output_type": "stream",
          "name": "stdout",
          "text": [
            "Epoch 1/50\n",
            "38/38 [==============================] - ETA: 0s - loss: 0.2061 - acc: 0.9201\n",
            "Epoch 00001: val_loss improved from inf to 0.21522, saving model to model-dsbow12018-1.h5\n",
            "38/38 [==============================] - 7s 125ms/step - loss: 0.2061 - acc: 0.9201 - val_loss: 0.2152 - val_acc: 0.9300\n",
            "Epoch 2/50\n",
            "38/38 [==============================] - ETA: 0s - loss: 0.1376 - acc: 0.9467\n",
            "Epoch 00002: val_loss improved from 0.21522 to 0.17151, saving model to model-dsbow12018-1.h5\n",
            "38/38 [==============================] - 4s 107ms/step - loss: 0.1376 - acc: 0.9467 - val_loss: 0.1715 - val_acc: 0.9411\n",
            "Epoch 3/50\n",
            "38/38 [==============================] - ETA: 0s - loss: 0.1295 - acc: 0.9497\n",
            "Epoch 00003: val_loss improved from 0.17151 to 0.14909, saving model to model-dsbow12018-1.h5\n",
            "38/38 [==============================] - 4s 106ms/step - loss: 0.1295 - acc: 0.9497 - val_loss: 0.1491 - val_acc: 0.9473\n",
            "Epoch 4/50\n",
            "38/38 [==============================] - ETA: 0s - loss: 0.1073 - acc: 0.9580\n",
            "Epoch 00004: val_loss improved from 0.14909 to 0.14524, saving model to model-dsbow12018-1.h5\n",
            "38/38 [==============================] - 4s 106ms/step - loss: 0.1073 - acc: 0.9580 - val_loss: 0.1452 - val_acc: 0.9515\n",
            "Epoch 5/50\n",
            "38/38 [==============================] - ETA: 0s - loss: 0.1040 - acc: 0.9595\n",
            "Epoch 00005: val_loss improved from 0.14524 to 0.12666, saving model to model-dsbow12018-1.h5\n",
            "38/38 [==============================] - 4s 106ms/step - loss: 0.1040 - acc: 0.9595 - val_loss: 0.1267 - val_acc: 0.9552\n",
            "Epoch 6/50\n",
            "38/38 [==============================] - ETA: 0s - loss: 0.0981 - acc: 0.9617\n",
            "Epoch 00006: val_loss improved from 0.12666 to 0.11992, saving model to model-dsbow12018-1.h5\n",
            "38/38 [==============================] - 4s 105ms/step - loss: 0.0981 - acc: 0.9617 - val_loss: 0.1199 - val_acc: 0.9578\n",
            "Epoch 7/50\n",
            "38/38 [==============================] - ETA: 0s - loss: 0.0958 - acc: 0.9625\n",
            "Epoch 00007: val_loss did not improve from 0.11992\n",
            "38/38 [==============================] - 4s 100ms/step - loss: 0.0958 - acc: 0.9625 - val_loss: 0.1290 - val_acc: 0.9561\n",
            "Epoch 8/50\n",
            "38/38 [==============================] - ETA: 0s - loss: 0.0927 - acc: 0.9638\n",
            "Epoch 00008: val_loss improved from 0.11992 to 0.11188, saving model to model-dsbow12018-1.h5\n",
            "38/38 [==============================] - 4s 113ms/step - loss: 0.0927 - acc: 0.9638 - val_loss: 0.1119 - val_acc: 0.9593\n",
            "Epoch 9/50\n",
            "38/38 [==============================] - ETA: 0s - loss: 0.0932 - acc: 0.9634\n",
            "Epoch 00009: val_loss did not improve from 0.11188\n",
            "38/38 [==============================] - 4s 107ms/step - loss: 0.0932 - acc: 0.9634 - val_loss: 0.1127 - val_acc: 0.9589\n",
            "Epoch 10/50\n",
            "38/38 [==============================] - ETA: 0s - loss: 0.0898 - acc: 0.9646\n",
            "Epoch 00010: val_loss improved from 0.11188 to 0.10365, saving model to model-dsbow12018-1.h5\n",
            "38/38 [==============================] - 5s 129ms/step - loss: 0.0898 - acc: 0.9646 - val_loss: 0.1037 - val_acc: 0.9628\n",
            "Epoch 11/50\n",
            "38/38 [==============================] - ETA: 0s - loss: 0.0874 - acc: 0.9657\n",
            "Epoch 00011: val_loss did not improve from 0.10365\n",
            "38/38 [==============================] - 4s 102ms/step - loss: 0.0874 - acc: 0.9657 - val_loss: 0.1072 - val_acc: 0.9619\n",
            "Epoch 12/50\n",
            "38/38 [==============================] - ETA: 0s - loss: 0.0859 - acc: 0.9662\n",
            "Epoch 00012: val_loss did not improve from 0.10365\n",
            "38/38 [==============================] - 4s 102ms/step - loss: 0.0859 - acc: 0.9662 - val_loss: 0.1069 - val_acc: 0.9629\n",
            "Epoch 13/50\n",
            "38/38 [==============================] - ETA: 0s - loss: 0.0845 - acc: 0.9672\n",
            "Epoch 00013: val_loss improved from 0.10365 to 0.10252, saving model to model-dsbow12018-1.h5\n",
            "38/38 [==============================] - 4s 107ms/step - loss: 0.0845 - acc: 0.9672 - val_loss: 0.1025 - val_acc: 0.9635\n",
            "Epoch 14/50\n",
            "38/38 [==============================] - ETA: 0s - loss: 0.0845 - acc: 0.9668\n",
            "Epoch 00014: val_loss did not improve from 0.10252\n",
            "38/38 [==============================] - 4s 106ms/step - loss: 0.0845 - acc: 0.9668 - val_loss: 0.1055 - val_acc: 0.9624\n",
            "Epoch 15/50\n",
            "38/38 [==============================] - ETA: 0s - loss: 0.0841 - acc: 0.9667\n",
            "Epoch 00015: val_loss did not improve from 0.10252\n",
            "38/38 [==============================] - 4s 102ms/step - loss: 0.0841 - acc: 0.9667 - val_loss: 0.1042 - val_acc: 0.9636\n",
            "Epoch 16/50\n",
            "38/38 [==============================] - ETA: 0s - loss: 0.0825 - acc: 0.9678\n",
            "Epoch 00016: val_loss improved from 0.10252 to 0.09828, saving model to model-dsbow12018-1.h5\n",
            "38/38 [==============================] - 4s 107ms/step - loss: 0.0825 - acc: 0.9678 - val_loss: 0.0983 - val_acc: 0.9646\n",
            "Epoch 17/50\n",
            "38/38 [==============================] - ETA: 0s - loss: 0.0799 - acc: 0.9684\n",
            "Epoch 00017: val_loss did not improve from 0.09828\n",
            "38/38 [==============================] - 4s 102ms/step - loss: 0.0799 - acc: 0.9684 - val_loss: 0.1031 - val_acc: 0.9619\n",
            "Epoch 18/50\n",
            "38/38 [==============================] - ETA: 0s - loss: 0.0815 - acc: 0.9678\n",
            "Epoch 00018: val_loss improved from 0.09828 to 0.09746, saving model to model-dsbow12018-1.h5\n",
            "38/38 [==============================] - 4s 107ms/step - loss: 0.0815 - acc: 0.9678 - val_loss: 0.0975 - val_acc: 0.9653\n",
            "Epoch 19/50\n",
            "38/38 [==============================] - ETA: 0s - loss: 0.0796 - acc: 0.9685\n",
            "Epoch 00019: val_loss did not improve from 0.09746\n",
            "38/38 [==============================] - 4s 101ms/step - loss: 0.0796 - acc: 0.9685 - val_loss: 0.0981 - val_acc: 0.9645\n",
            "Epoch 20/50\n",
            "38/38 [==============================] - ETA: 0s - loss: 0.0780 - acc: 0.9689\n",
            "Epoch 00020: val_loss did not improve from 0.09746\n",
            "38/38 [==============================] - 4s 101ms/step - loss: 0.0780 - acc: 0.9689 - val_loss: 0.0992 - val_acc: 0.9648\n",
            "Epoch 21/50\n",
            "38/38 [==============================] - ETA: 0s - loss: 0.0764 - acc: 0.9697\n",
            "Epoch 00021: val_loss improved from 0.09746 to 0.09629, saving model to model-dsbow12018-1.h5\n",
            "38/38 [==============================] - 4s 108ms/step - loss: 0.0764 - acc: 0.9697 - val_loss: 0.0963 - val_acc: 0.9657\n",
            "Epoch 22/50\n",
            "38/38 [==============================] - ETA: 0s - loss: 0.0794 - acc: 0.9683\n",
            "Epoch 00022: val_loss did not improve from 0.09629\n",
            "38/38 [==============================] - 4s 101ms/step - loss: 0.0794 - acc: 0.9683 - val_loss: 0.1155 - val_acc: 0.9597\n",
            "Epoch 23/50\n",
            "38/38 [==============================] - ETA: 0s - loss: 0.0788 - acc: 0.9687\n",
            "Epoch 00023: val_loss did not improve from 0.09629\n",
            "38/38 [==============================] - 4s 101ms/step - loss: 0.0788 - acc: 0.9687 - val_loss: 0.1060 - val_acc: 0.9620\n",
            "Epoch 24/50\n",
            "38/38 [==============================] - ETA: 0s - loss: 0.0782 - acc: 0.9690\n",
            "Epoch 00024: val_loss did not improve from 0.09629\n",
            "38/38 [==============================] - 4s 101ms/step - loss: 0.0782 - acc: 0.9690 - val_loss: 0.0989 - val_acc: 0.9653\n",
            "Epoch 25/50\n",
            "38/38 [==============================] - ETA: 0s - loss: 0.0751 - acc: 0.9697\n",
            "Epoch 00025: val_loss did not improve from 0.09629\n",
            "38/38 [==============================] - 4s 101ms/step - loss: 0.0751 - acc: 0.9697 - val_loss: 0.0998 - val_acc: 0.9655\n",
            "Epoch 26/50\n",
            "38/38 [==============================] - ETA: 0s - loss: 0.0740 - acc: 0.9703\n",
            "Epoch 00026: val_loss did not improve from 0.09629\n",
            "38/38 [==============================] - 4s 101ms/step - loss: 0.0740 - acc: 0.9703 - val_loss: 0.1003 - val_acc: 0.9647\n",
            "Epoch 00026: early stopping\n"
          ]
        }
      ]
    },
    {
      "cell_type": "code",
      "source": [
        "model=load_model('model-dsbow12018-1.h5')\n",
        "preds_train=model.predict(X_train[:int(X_train.shape[0]*0.9)], verbose=1)\n",
        "preds_val=model.predict(X_train[int(X_train.shape[0]*0.9):], verbose=1)\n",
        "preds_test=model.predict(X_test, verbose=1)"
      ],
      "metadata": {
        "colab": {
          "base_uri": "https://localhost:8080/"
        },
        "id": "PhAkALaYdzrX",
        "outputId": "1c58b495-8290-4ee5-e87a-71f9844df913"
      },
      "execution_count": 140,
      "outputs": [
        {
          "output_type": "stream",
          "name": "stdout",
          "text": [
            "19/19 [==============================] - 3s 95ms/step\n",
            "3/3 [==============================] - 0s 50ms/step\n",
            "3/3 [==============================] - 0s 170ms/step\n"
          ]
        }
      ]
    },
    {
      "cell_type": "code",
      "source": [
        "preds_train_t=(preds_train>0.5).astype(np.uint8)\n",
        "preds_val_t=(preds_val>0.5).astype(np.uint8)\n",
        "preds_test_t=(preds_test>0.5).astype(np.uint8)"
      ],
      "metadata": {
        "id": "MCZXHbfMn3fa"
      },
      "execution_count": 142,
      "outputs": []
    },
    {
      "cell_type": "code",
      "source": [
        "preds_test_upsampled=[]\n",
        "for i in range(len(preds_test)):\n",
        "  preds_test_upsampled.append(resize(np.squeeze(preds_test[i]),(sizes_test[i][0], sizes_test[i][1]), mode='constant', preserve_range=True))"
      ],
      "metadata": {
        "id": "TKhA_KL4n61I"
      },
      "execution_count": 145,
      "outputs": []
    },
    {
      "cell_type": "code",
      "source": [
        "preds_test_upsampled"
      ],
      "metadata": {
        "colab": {
          "base_uri": "https://localhost:8080/"
        },
        "id": "Gwci0gPzoNOZ",
        "outputId": "51985e27-08f5-4cd7-f6c7-370570d80c40"
      },
      "execution_count": 146,
      "outputs": [
        {
          "output_type": "execute_result",
          "data": {
            "text/plain": [
              "[array([[0.01627555, 0.01712876, 0.00798482, ..., 0.0055331 , 0.01169552,\n",
              "         0.01108255],\n",
              "        [0.01699129, 0.01785618, 0.00825843, ..., 0.00577512, 0.01226676,\n",
              "         0.01163443],\n",
              "        [0.00757243, 0.00789186, 0.00348242, ..., 0.00257044, 0.00561221,\n",
              "         0.00534982],\n",
              "        ...,\n",
              "        [0.00587703, 0.00609643, 0.00261723, ..., 0.00788819, 0.01435492,\n",
              "         0.01319122],\n",
              "        [0.01172484, 0.01226027, 0.00551459, ..., 0.0157997 , 0.02757964,\n",
              "         0.0251022 ],\n",
              "        [0.01098656, 0.01150664, 0.00522245, ..., 0.01481659, 0.025644  ,\n",
              "         0.02329327]], dtype=float32),\n",
              " array([[0.08007399, 0.11257317, 0.08050342, ..., 0.11144936, 0.13070224,\n",
              "         0.09123988],\n",
              "        [0.11151408, 0.15677367, 0.11211212, ..., 0.15520862, 0.1820209 ,\n",
              "         0.12706412],\n",
              "        [0.11737174, 0.16499998, 0.11793003, ..., 0.17076278, 0.2028255 ,\n",
              "         0.14179751],\n",
              "        ...,\n",
              "        [0.24414878, 0.35941017, 0.37661567, ..., 0.14874732, 0.21387467,\n",
              "         0.1525343 ],\n",
              "        [0.20683102, 0.3037815 , 0.3134264 , ..., 0.13699792, 0.19636838,\n",
              "         0.14000794],\n",
              "        [0.14851831, 0.21813513, 0.2250608 , ..., 0.09837354, 0.14100544,\n",
              "         0.10053492]], dtype=float32),\n",
              " array([[0.00841795, 0.00871028, 0.00368296, ..., 0.00413787, 0.00993373,\n",
              "         0.00962374],\n",
              "        [0.0087042 , 0.00899846, 0.00378419, ..., 0.00425407, 0.01024821,\n",
              "         0.00993396],\n",
              "        [0.00366473, 0.00376798, 0.00153133, ..., 0.00172788, 0.00425468,\n",
              "         0.00413856],\n",
              "        ...,\n",
              "        [0.0118015 , 0.0122757 , 0.00535643, ..., 0.0014844 , 0.00319806,\n",
              "         0.00304117],\n",
              "        [0.0236055 , 0.02477844, 0.0113873 , ..., 0.00358911, 0.00741911,\n",
              "         0.00700059],\n",
              "        [0.02213063, 0.02327235, 0.01080205, ..., 0.00348109, 0.00714723,\n",
              "         0.00673523]], dtype=float32),\n",
              " array([[0.00949336, 0.01244276, 0.01539215, ..., 0.01149494, 0.00929224,\n",
              "         0.00708964],\n",
              "        [0.01324383, 0.01735842, 0.02147301, ..., 0.01603615, 0.01296325,\n",
              "         0.00989048],\n",
              "        [0.01369555, 0.01795048, 0.02220541, ..., 0.01658383, 0.01340598,\n",
              "         0.01022827],\n",
              "        ...,\n",
              "        [0.01102641, 0.01445209, 0.01787777, ..., 0.01055273, 0.00853058,\n",
              "         0.00650852],\n",
              "        [0.01051574, 0.01378277, 0.0170498 , ..., 0.01018017, 0.00822941,\n",
              "         0.00627874],\n",
              "        [0.00753783, 0.00987968, 0.01222153, ..., 0.00729728, 0.00589896,\n",
              "         0.00450069]], dtype=float32),\n",
              " array([[0.00987598, 0.01023272, 0.00436222, ..., 0.5695147 , 0.5290654 ,\n",
              "         0.38163054],\n",
              "        [0.01025001, 0.01060955, 0.0044953 , ..., 0.80114585, 0.7446511 ,\n",
              "         0.53730285],\n",
              "        [0.0044141 , 0.00454142, 0.00185332, ..., 0.8847317 , 0.82311237,\n",
              "         0.5942271 ],\n",
              "        ...,\n",
              "        [0.00769382, 0.00793257, 0.00328085, ..., 0.00270207, 0.00542909,\n",
              "         0.00509446],\n",
              "        [0.01559617, 0.01618613, 0.00696861, ..., 0.00624743, 0.01191341,\n",
              "         0.0110598 ],\n",
              "        [0.01466051, 0.01523468, 0.00660937, ..., 0.00601509, 0.01136667,\n",
              "         0.01053185]], dtype=float32),\n",
              " array([[0.07192416, 0.10092644, 0.07077543, ..., 0.13492495, 0.15295708,\n",
              "         0.1063427 ],\n",
              "        [0.10016432, 0.140554  , 0.09856456, ..., 0.1879016 , 0.21301384,\n",
              "         0.14809687],\n",
              "        [0.10512739, 0.1475196 , 0.10345853, ..., 0.20784704, 0.2388196 ,\n",
              "         0.16630925],\n",
              "        ...,\n",
              "        [0.21262296, 0.3228627 , 0.40797296, ..., 0.17250206, 0.2491694 ,\n",
              "         0.17778252],\n",
              "        [0.19011925, 0.2870232 , 0.35126275, ..., 0.16092782, 0.23178348,\n",
              "         0.16533321],\n",
              "        [0.13651815, 0.20610157, 0.2522298 , ..., 0.11555678, 0.16643581,\n",
              "         0.11872014]], dtype=float32),\n",
              " array([[0.01602115, 0.01684105, 0.0078001 , ..., 0.00527949, 0.01037919,\n",
              "         0.00969678],\n",
              "        [0.01667816, 0.01750974, 0.00805413, ..., 0.00544969, 0.01075166,\n",
              "         0.01005198],\n",
              "        [0.00731143, 0.00761975, 0.00336211, ..., 0.00227043, 0.00457714,\n",
              "         0.00429787],\n",
              "        ...,\n",
              "        [0.00853339, 0.00889134, 0.00391832, ..., 0.7198903 , 0.62282425,\n",
              "         0.43071845],\n",
              "        [0.01658784, 0.01742867, 0.00805177, ..., 0.6027848 , 0.52842396,\n",
              "         0.3684327 ],\n",
              "        [0.0154613 , 0.016273  , 0.00758887, ..., 0.40817404, 0.3609179 ,\n",
              "         0.25296736]], dtype=float32),\n",
              " array([[0.07921228, 0.08979253, 0.05968221, ..., 0.460085  , 0.39222863,\n",
              "         0.26918498],\n",
              "        [0.11055439, 0.12532096, 0.08329681, ..., 0.64212793, 0.5474227 ,\n",
              "         0.37569404],\n",
              "        [0.1185488 , 0.13411474, 0.08852717, ..., 0.7473811 , 0.6365883 ,\n",
              "         0.43663308],\n",
              "        ...,\n",
              "        [0.02661372, 0.02797398, 0.01356906, ..., 0.18605125, 0.21845412,\n",
              "         0.1769702 ],\n",
              "        [0.02517378, 0.02649033, 0.0129232 , ..., 0.16003616, 0.18869515,\n",
              "         0.1531206 ],\n",
              "        [0.01803703, 0.01898034, 0.00925948, ..., 0.11466603, 0.13520022,\n",
              "         0.10971104]], dtype=float32),\n",
              " array([[0.19501413, 0.2316854 , 0.17831676, ..., 0.56211126, 0.5097178 ,\n",
              "         0.3636065 ],\n",
              "        [0.27217585, 0.32335693, 0.24887179, ..., 0.7845232 , 0.71139914,\n",
              "         0.5074756 ],\n",
              "        [0.3129558 , 0.37385586, 0.29221788, ..., 0.902483  , 0.8189314 ,\n",
              "         0.5844246 ],\n",
              "        ...,\n",
              "        [0.544967  , 0.72888666, 0.7389014 , ..., 0.12854218, 0.16773166,\n",
              "         0.14139341],\n",
              "        [0.46072832, 0.61575145, 0.62330544, ..., 0.11629859, 0.15220755,\n",
              "         0.12844054],\n",
              "        [0.3301122 , 0.44118637, 0.44659886, ..., 0.08332802, 0.10905682,\n",
              "         0.09202775]], dtype=float32),\n",
              " array([[0.02531586, 0.02711976, 0.01385032, ..., 0.56802803, 0.49460053,\n",
              "         0.3434151 ],\n",
              "        [0.02674164, 0.02858584, 0.01444648, ..., 0.7995832 , 0.7063933 ,\n",
              "         0.49484882],\n",
              "        [0.01271595, 0.01343815, 0.00640525, ..., 0.8840081 , 0.80024517,\n",
              "         0.5687728 ],\n",
              "        ...,\n",
              "        [0.01034412, 0.01078578, 0.00477304, ..., 0.00106078, 0.00233347,\n",
              "         0.00222737],\n",
              "        [0.01883242, 0.0198251 , 0.00925553, ..., 0.00252404, 0.00536966,\n",
              "         0.00509436],\n",
              "        [0.01730742, 0.01825857, 0.00862258, ..., 0.00244175, 0.00516582,\n",
              "         0.00489589]], dtype=float32),\n",
              " array([[0.01123466, 0.01472505, 0.01821543, ..., 0.03266993, 0.02640961,\n",
              "         0.02014956],\n",
              "        [0.01567305, 0.02054235, 0.02541164, ..., 0.04557656, 0.03684304,\n",
              "         0.02810988],\n",
              "        [0.01625695, 0.02130765, 0.02635835, ..., 0.04778995, 0.03863229,\n",
              "         0.02947501],\n",
              "        ...,\n",
              "        [0.02519533, 0.03302301, 0.04085069, ..., 0.0171212 , 0.01384038,\n",
              "         0.0105597 ],\n",
              "        [0.02389194, 0.03131468, 0.03873742, ..., 0.01635914, 0.01322435,\n",
              "         0.01008969],\n",
              "        [0.01712606, 0.02244679, 0.02776751, ..., 0.01172645, 0.00947939,\n",
              "         0.00723243]], dtype=float32),\n",
              " array([[0.13703176, 0.15395522, 0.09644763, ..., 0.00252934, 0.0063796 ,\n",
              "         0.00622855],\n",
              "        [0.22496489, 0.25651813, 0.169648  , ..., 0.00257998, 0.00651722,\n",
              "         0.00636438],\n",
              "        [0.3094766 , 0.35900712, 0.25175035, ..., 0.00099505, 0.00253941,\n",
              "         0.00248369],\n",
              "        ...,\n",
              "        [0.00914156, 0.00948404, 0.00407463, ..., 0.00151834, 0.00328   ,\n",
              "         0.00312062],\n",
              "        [0.01777396, 0.01861086, 0.00843535, ..., 0.00368054, 0.00764344,\n",
              "         0.00721867],\n",
              "        [0.01656762, 0.0173807 , 0.00796178, ..., 0.00357123, 0.00736887,\n",
              "         0.00695077]], dtype=float32),\n",
              " array([[0.14423934, 0.18993892, 0.2356385 , ..., 0.14159413, 0.11413276,\n",
              "         0.08667251],\n",
              "        [0.20193505, 0.2659145 , 0.32989392, ..., 0.19823177, 0.15978587,\n",
              "         0.12134153],\n",
              "        [0.23331979, 0.3072429 , 0.38116598, ..., 0.22037329, 0.17763317,\n",
              "         0.13489477],\n",
              "        ...,\n",
              "        [0.09217941, 0.12138477, 0.15059012, ..., 0.62143654, 0.5009125 ,\n",
              "         0.3803934 ],\n",
              "        [0.08651978, 0.11393198, 0.14134419, ..., 0.5364999 , 0.43244886,\n",
              "         0.32840204],\n",
              "        [0.06179984, 0.08137999, 0.10096014, ..., 0.38321424, 0.30889204,\n",
              "         0.23457289]], dtype=float32),\n",
              " array([[0.16834708, 0.2560782 , 0.32664654, ..., 0.50291175, 0.45247915,\n",
              "         0.3046028 ],\n",
              "        [0.23485455, 0.3572449 , 0.45569208, ..., 0.7015929 , 0.6312363 ,\n",
              "         0.42493972],\n",
              "        [0.2637418 , 0.40201345, 0.51845235, ..., 0.8179271 , 0.7406682 ,\n",
              "         0.499117  ],\n",
              "        ...,\n",
              "        [0.19543925, 0.29024634, 0.32209015, ..., 0.20608091, 0.26173267,\n",
              "         0.18435332],\n",
              "        [0.16112919, 0.23830898, 0.25756812, ..., 0.19099508, 0.24196921,\n",
              "         0.17038707],\n",
              "        [0.11549959, 0.17082311, 0.18462832, ..., 0.13690786, 0.1734468 ,\n",
              "         0.12213576]], dtype=float32),\n",
              " array([[0.00839439, 0.00867443, 0.00363826, ..., 0.00505964, 0.01120186,\n",
              "         0.01070473],\n",
              "        [0.00867912, 0.00896095, 0.00373851, ..., 0.00523528, 0.01163496,\n",
              "         0.01112609],\n",
              "        [0.00365233, 0.00375102, 0.00151351, ..., 0.00221348, 0.00503324,\n",
              "         0.00483234],\n",
              "        ...,\n",
              "        [0.00850422, 0.00880903, 0.00374915, ..., 0.00830383, 0.01642171,\n",
              "         0.01536049],\n",
              "        [0.01715554, 0.01790837, 0.00797702, ..., 0.01755975, 0.03326707,\n",
              "         0.03084054],\n",
              "        [0.01611089, 0.01684353, 0.00756822, ..., 0.01664079, 0.03126731,\n",
              "         0.02893543]], dtype=float32),\n",
              " array([[0.06530815, 0.078896  , 0.06253292, ..., 0.69600874, 0.6506306 ,\n",
              "         0.47095618],\n",
              "        [0.07312104, 0.08929051, 0.07288207, ..., 0.92867965, 0.87328726,\n",
              "         0.6341933 ],\n",
              "        [0.04520803, 0.05748217, 0.05189177, ..., 0.93001574, 0.88484687,\n",
              "         0.6466968 ],\n",
              "        ...,\n",
              "        [0.01824265, 0.01912179, 0.0087183 , ..., 0.01185375, 0.02094091,\n",
              "         0.01911337],\n",
              "        [0.03157648, 0.03354269, 0.0164241 , ..., 0.02043444, 0.03556395,\n",
              "         0.03234652],\n",
              "        [0.02868255, 0.03056485, 0.01520774, ..., 0.01854359, 0.0321566 ,\n",
              "         0.02922233]], dtype=float32),\n",
              " array([[0.4443717 , 0.5461307 , 0.57297564, ..., 0.15142591, 0.15397064,\n",
              "         0.14782348],\n",
              "        [0.62019736, 0.7622196 , 0.7996863 , ..., 0.21134098, 0.21489258,\n",
              "         0.20631315],\n",
              "        [0.71443534, 0.8754766 , 0.9177935 , ..., 0.2533647 , 0.25294498,\n",
              "         0.24055788],\n",
              "        ...,\n",
              "        [0.07788835, 0.04362879, 0.0175985 , ..., 0.6988511 , 0.59448135,\n",
              "         0.4795117 ],\n",
              "        [0.07031336, 0.03959325, 0.01616056, ..., 0.5825209 , 0.48766878,\n",
              "         0.39297932],\n",
              "        [0.05037958, 0.02836859, 0.01157905, ..., 0.41737667, 0.34941506,\n",
              "         0.28157   ]], dtype=float32),\n",
              " array([[0.0887192 , 0.11682824, 0.14493729, ..., 0.13073763, 0.10538182,\n",
              "         0.08002705],\n",
              "        [0.12420687, 0.16355954, 0.20291221, ..., 0.18303269, 0.14753456,\n",
              "         0.11203787],\n",
              "        [0.12927845, 0.17023796, 0.21119747, ..., 0.20210293, 0.16290623,\n",
              "         0.12371113],\n",
              "        ...,\n",
              "        [0.08344585, 0.10988414, 0.13632242, ..., 0.26291013, 0.21192023,\n",
              "         0.16093239],\n",
              "        [0.07953048, 0.10472825, 0.12992603, ..., 0.24390876, 0.19660407,\n",
              "         0.14930129],\n",
              "        [0.05680749, 0.0748059 , 0.0928043 , ..., 0.17422055, 0.14043148,\n",
              "         0.10664378]], dtype=float32),\n",
              " array([[0.00810123, 0.01080165, 0.01350206, ..., 0.02121572, 0.01697264,\n",
              "         0.0127294 ],\n",
              "        [0.01134173, 0.0151223 , 0.01890288, ..., 0.02970201, 0.0237617 ,\n",
              "         0.01782116],\n",
              "        [0.01155433, 0.01540577, 0.01925722, ..., 0.03051177, 0.02440951,\n",
              "         0.01830702],\n",
              "        ...,\n",
              "        [0.01652525, 0.02203366, 0.02754208, ..., 0.01305546, 0.01044441,\n",
              "         0.00783326],\n",
              "        [0.01604321, 0.02139095, 0.02673869, ..., 0.01281545, 0.0102524 ,\n",
              "         0.00768925],\n",
              "        [0.01145944, 0.01527925, 0.01909906, ..., 0.00915389, 0.00732314,\n",
              "         0.00549232]], dtype=float32),\n",
              " array([[0.38652742, 0.5135279 , 0.5138935 , ..., 0.11645782, 0.13032387,\n",
              "         0.10347019],\n",
              "        [0.53946567, 0.71671677, 0.7172269 , ..., 0.16253696, 0.18188943,\n",
              "         0.14441049],\n",
              "        [0.62650293, 0.8331148 , 0.8351987 , ..., 0.18193349, 0.20121923,\n",
              "         0.1589392 ],\n",
              "        ...,\n",
              "        [0.01954751, 0.02020507, 0.00895737, ..., 0.8143109 , 0.72624695,\n",
              "         0.5128991 ],\n",
              "        [0.01857992, 0.01921836, 0.00855366, ..., 0.70660126, 0.63284415,\n",
              "         0.44808355],\n",
              "        [0.01331253, 0.01376997, 0.0061287 , ..., 0.5062803 , 0.4534333 ,\n",
              "         0.3210522 ]], dtype=float32),\n",
              " array([[0.089247  , 0.10973156, 0.09254254, ..., 0.01980415, 0.03208973,\n",
              "         0.0288956 ],\n",
              "        [0.12455957, 0.1531493 , 0.12915908, ..., 0.02764011, 0.04478675,\n",
              "         0.04032879],\n",
              "        [0.13516313, 0.16578569, 0.13896956, ..., 0.02890055, 0.04709099,\n",
              "         0.04246594],\n",
              "        ...,\n",
              "        [0.03798218, 0.04022142, 0.02024537, ..., 0.8834959 , 0.8222224 ,\n",
              "         0.5954863 ],\n",
              "        [0.03546958, 0.037616  , 0.01906954, ..., 0.7626987 , 0.7071117 ,\n",
              "         0.5110043 ],\n",
              "        [0.02541398, 0.0269519 , 0.01366334, ..., 0.5464742 , 0.5066461 ,\n",
              "         0.366135  ]], dtype=float32),\n",
              " array([[0.24629188, 0.32432494, 0.402358  , ..., 0.26230282, 0.2114307 ,\n",
              "         0.16056065],\n",
              "        [0.3448086 , 0.4540549 , 0.5633012 , ..., 0.36722395, 0.29600298,\n",
              "         0.22478491],\n",
              "        [0.39006513, 0.5136501 , 0.6372351 , ..., 0.45415565, 0.3660748 ,\n",
              "         0.2779975 ],\n",
              "        ...,\n",
              "        [0.08240049, 0.10850757, 0.13461465, ..., 0.51090276, 0.41181612,\n",
              "         0.31273353],\n",
              "        [0.07866321, 0.1035862 , 0.1285092 , ..., 0.44652754, 0.3599261 ,\n",
              "         0.27332819],\n",
              "        [0.056188  , 0.07399014, 0.09179228, ..., 0.31894824, 0.25709006,\n",
              "         0.19523442]], dtype=float32),\n",
              " array([[0.01245238, 0.01293768, 0.0056067 , ..., 0.21640159, 0.24352166,\n",
              "         0.19281127],\n",
              "        [0.01295114, 0.01344116, 0.0057871 , ..., 0.37609413, 0.38992694,\n",
              "         0.2976325 ],\n",
              "        [0.00564708, 0.00582299, 0.00241008, ..., 0.5512115 , 0.52038974,\n",
              "         0.3787341 ],\n",
              "        ...,\n",
              "        [0.03249635, 0.05164402, 0.06827513, ..., 0.65619963, 0.6716522 ,\n",
              "         0.5095339 ],\n",
              "        [0.05298676, 0.07466444, 0.08269529, ..., 0.5841934 , 0.6135333 ,\n",
              "         0.47115242],\n",
              "        [0.04742397, 0.06463099, 0.06742903, ..., 0.41114274, 0.4383554 ,\n",
              "         0.33897126]], dtype=float32),\n",
              " array([[0.06230181, 0.0883728 , 0.07001402, ..., 0.5053088 , 0.44593766,\n",
              "         0.29934463],\n",
              "        [0.06941196, 0.09842446, 0.0777365 , ..., 0.69075453, 0.6142166 ,\n",
              "         0.41282338],\n",
              "        [0.04033257, 0.05710662, 0.04450456, ..., 0.7187008 , 0.648422  ,\n",
              "         0.4368541 ],\n",
              "        ...,\n",
              "        [0.49028778, 0.7263239 , 0.7954278 , ..., 0.03551966, 0.0463524 ,\n",
              "         0.03279708],\n",
              "        [0.3947073 , 0.5886036 , 0.67104596, ..., 0.05206109, 0.06882989,\n",
              "         0.04876881],\n",
              "        [0.259969  , 0.38941592, 0.4557513 , ..., 0.04482387, 0.05948134,\n",
              "         0.04216142]], dtype=float32),\n",
              " array([[0.06133322, 0.08076552, 0.10019783, ..., 0.264523  , 0.21322031,\n",
              "         0.16191968],\n",
              "        [0.0858665 , 0.11307173, 0.14027697, ..., 0.3703322 , 0.29850844,\n",
              "         0.22668755],\n",
              "        [0.08808509, 0.11599325, 0.1439014 , ..., 0.42363298, 0.34147182,\n",
              "         0.259314  ],\n",
              "        ...,\n",
              "        [0.08378908, 0.11033612, 0.13688315, ..., 0.27356884, 0.22051175,\n",
              "         0.1674568 ],\n",
              "        [0.07987674, 0.10518422, 0.1304917 , ..., 0.25284916, 0.20381053,\n",
              "         0.15477389],\n",
              "        [0.05705481, 0.07513159, 0.09320836, ..., 0.18060654, 0.14557895,\n",
              "         0.11055278]], dtype=float32),\n",
              " array([[0.12715062, 0.16743597, 0.20772131, ..., 0.18542549, 0.1494633 ,\n",
              "         0.11350255],\n",
              "        [0.17801087, 0.23441035, 0.29080984, ..., 0.2595957 , 0.20924862,\n",
              "         0.15890357],\n",
              "        [0.19142394, 0.2520731 , 0.31272227, ..., 0.29792914, 0.2401475 ,\n",
              "         0.18236822],\n",
              "        ...,\n",
              "        [0.25216106, 0.33205366, 0.41194627, ..., 0.32292855, 0.26029843,\n",
              "         0.19767085],\n",
              "        [0.20473489, 0.26960137, 0.3344679 , ..., 0.2931416 , 0.23628849,\n",
              "         0.17943768],\n",
              "        [0.1462392 , 0.19257241, 0.23890562, ..., 0.20938687, 0.1687775 ,\n",
              "         0.12816978]], dtype=float32),\n",
              " array([[0.03080491, 0.04056488, 0.05032485, ..., 0.0964019 , 0.07770531,\n",
              "         0.05900948],\n",
              "        [0.04312688, 0.05679084, 0.07045479, ..., 0.13496266, 0.10878743,\n",
              "         0.08261327],\n",
              "        [0.04457998, 0.05870432, 0.07282867, ..., 0.16353892, 0.1318215 ,\n",
              "         0.10010535],\n",
              "        ...,\n",
              "        [0.08970356, 0.11812449, 0.14654541, ..., 0.33907363, 0.27331227,\n",
              "         0.20755357],\n",
              "        [0.08490617, 0.11180714, 0.1387081 , ..., 0.30783045, 0.2481285 ,\n",
              "         0.188429  ],\n",
              "        [0.06064726, 0.07986224, 0.09907722, ..., 0.21987888, 0.17723465,\n",
              "         0.13459215]], dtype=float32),\n",
              " array([[0.00793355, 0.00819458, 0.00342762, ..., 0.003775  , 0.00902387,\n",
              "         0.00873623],\n",
              "        [0.00820926, 0.00847198, 0.00352456, ..., 0.00387878, 0.00929958,\n",
              "         0.00900749],\n",
              "        [0.00347167, 0.00356371, 0.00143334, ..., 0.00156969, 0.00383508,\n",
              "         0.00372584],\n",
              "        ...,\n",
              "        [0.6605622 , 0.90075123, 0.9407543 , ..., 0.00188145, 0.00387313,\n",
              "         0.00365173],\n",
              "        [0.64681304, 0.87919265, 0.9127432 , ..., 0.00442558, 0.00869647,\n",
              "         0.00812394],\n",
              "        [0.47995383, 0.65131   , 0.67405325, ..., 0.00427323, 0.00833111,\n",
              "         0.00777003]], dtype=float32),\n",
              " array([[0.3914238 , 0.5736491 , 0.5830013 , ..., 0.1532984 , 0.14788325,\n",
              "         0.1006175 ],\n",
              "        [0.5460603 , 0.80027586, 0.81332284, ..., 0.2138607 , 0.20630626,\n",
              "         0.14036761],\n",
              "        [0.63105243, 0.92472976, 0.93905455, ..., 0.23408063, 0.22514169,\n",
              "         0.15311612],\n",
              "        ...,\n",
              "        [0.03606643, 0.05066549, 0.03594332, ..., 0.24072625, 0.27643836,\n",
              "         0.19249284],\n",
              "        [0.03417769, 0.04802229, 0.0341427 , ..., 0.20898207, 0.24729659,\n",
              "         0.1728129 ],\n",
              "        [0.02449903, 0.03442303, 0.02447395, ..., 0.14980118, 0.17726554,\n",
              "         0.12387463]], dtype=float32),\n",
              " array([[0.0171653 , 0.02249821, 0.02783111, ..., 0.02103713, 0.01700593,\n",
              "         0.01297489],\n",
              "        [0.02394665, 0.03138639, 0.03882612, ..., 0.02934809, 0.02372432,\n",
              "         0.01810078],\n",
              "        [0.02492881, 0.03267369, 0.04041856, ..., 0.03078575, 0.02488649,\n",
              "         0.01898747],\n",
              "        ...,\n",
              "        [0.0127471 , 0.01670737, 0.02066763, ..., 0.01038592, 0.00839574,\n",
              "         0.00640564],\n",
              "        [0.01216683, 0.01594681, 0.0197268 , ..., 0.01001888, 0.00809903,\n",
              "         0.00617926],\n",
              "        [0.00872135, 0.01143089, 0.01414043, ..., 0.00718167, 0.00580549,\n",
              "         0.00442938]], dtype=float32),\n",
              " array([[0.05136407, 0.05614031, 0.03145008, ..., 0.2019144 , 0.19347762,\n",
              "         0.14194441],\n",
              "        [0.05652074, 0.06145958, 0.03365677, ..., 0.2480863 , 0.23166616,\n",
              "         0.16759208],\n",
              "        [0.03259137, 0.03467125, 0.01710343, ..., 0.2058205 , 0.1790582 ,\n",
              "         0.12425778],\n",
              "        ...,\n",
              "        [0.49684817, 0.72038054, 0.8362132 , ..., 0.05083751, 0.07363712,\n",
              "         0.06377769],\n",
              "        [0.47114155, 0.6848656 , 0.79821926, ..., 0.08735237, 0.1198513 ,\n",
              "         0.10207557],\n",
              "        [0.34371617, 0.50033104, 0.58441675, ..., 0.07920735, 0.10721879,\n",
              "         0.09091838]], dtype=float32),\n",
              " array([[0.02048692, 0.02685179, 0.03321666, ..., 0.00764158, 0.00617728,\n",
              "         0.00471303],\n",
              "        [0.02858052, 0.03745991, 0.04633929, ..., 0.01066048, 0.00861768,\n",
              "         0.00657497],\n",
              "        [0.02985015, 0.03912399, 0.04839782, ..., 0.01099662, 0.00888941,\n",
              "         0.00678229],\n",
              "        ...,\n",
              "        [0.03786518, 0.04962913, 0.06139306, ..., 0.0130164 , 0.01052216,\n",
              "         0.00802802],\n",
              "        [0.03605535, 0.04725702, 0.05845868, ..., 0.01251135, 0.01011388,\n",
              "         0.00771652],\n",
              "        [0.02584497, 0.03387447, 0.04190397, ..., 0.0089683 , 0.00724977,\n",
              "         0.0055313 ]], dtype=float32),\n",
              " array([[0.0161719 , 0.02156254, 0.02695317, ..., 0.01201582, 0.00961269,\n",
              "         0.00720948],\n",
              "        [0.02264066, 0.03018755, 0.03773444, ..., 0.01682215, 0.01345777,\n",
              "         0.01009327],\n",
              "        [0.02318513, 0.03091351, 0.03864189, ..., 0.0171257 , 0.01370061,\n",
              "         0.01027539],\n",
              "        ...,\n",
              "        [0.01982308, 0.02643078, 0.03303847, ..., 0.03902605, 0.03122096,\n",
              "         0.02341557],\n",
              "        [0.01912182, 0.02549576, 0.0318697 , ..., 0.03798885, 0.0303912 ,\n",
              "         0.02279325],\n",
              "        [0.01365844, 0.01821126, 0.02276407, ..., 0.0271349 , 0.021708  ,\n",
              "         0.0162809 ]], dtype=float32),\n",
              " array([[0.01790401, 0.02387201, 0.02984001, ..., 0.01118435, 0.00894751,\n",
              "         0.00671059],\n",
              "        [0.02506561, 0.03342082, 0.04177602, ..., 0.01565809, 0.01252652,\n",
              "         0.00939483],\n",
              "        [0.02573926, 0.03431902, 0.04289877, ..., 0.01589203, 0.01271367,\n",
              "         0.00953519],\n",
              "        ...,\n",
              "        [0.03028493, 0.0403799 , 0.05047488, ..., 0.01490687, 0.01192554,\n",
              "         0.0089441 ],\n",
              "        [0.02926451, 0.03901934, 0.04877418, ..., 0.01464251, 0.01171405,\n",
              "         0.00878548],\n",
              "        [0.02090322, 0.02787096, 0.0348387 , ..., 0.01045894, 0.00836718,\n",
              "         0.00627535]], dtype=float32),\n",
              " array([[0.03321898, 0.03540206, 0.01762221, ..., 0.00677302, 0.015234  ,\n",
              "         0.01459837],\n",
              "        [0.03545678, 0.03770925, 0.01857633, ..., 0.00703473, 0.01592288,\n",
              "         0.01527521],\n",
              "        [0.01778639, 0.01872227, 0.00873642, ..., 0.00304281, 0.00714462,\n",
              "         0.00689665],\n",
              "        ...,\n",
              "        [0.01676219, 0.01759894, 0.00809767, ..., 0.6035401 , 0.42575324,\n",
              "         0.25264484],\n",
              "        [0.0313613 , 0.03332769, 0.01635294, ..., 0.6139071 , 0.46442556,\n",
              "         0.2922636 ],\n",
              "        [0.02899564, 0.03089404, 0.01536043, ..., 0.46431792, 0.36282128,\n",
              "         0.23405471]], dtype=float32),\n",
              " array([[0.33186075, 0.49374118, 0.5551478 , ..., 0.09997752, 0.11117774,\n",
              "         0.07720254],\n",
              "        [0.44534814, 0.66317964, 0.74968386, ..., 0.1299982 , 0.1432561 ,\n",
              "         0.09936182],\n",
              "        [0.4465586 , 0.6662034 , 0.76139235, ..., 0.12175607, 0.13139547,\n",
              "         0.09088596],\n",
              "        ...,\n",
              "        [0.03926189, 0.05669218, 0.05204599, ..., 0.63918966, 0.66353   ,\n",
              "         0.4565547 ],\n",
              "        [0.04422875, 0.06350673, 0.05580045, ..., 0.55565065, 0.61867934,\n",
              "         0.4296843 ],\n",
              "        [0.03479656, 0.0498487 , 0.04299267, ..., 0.38440952, 0.44542107,\n",
              "         0.3108998 ]], dtype=float32),\n",
              " array([[0.00993005, 0.01030546, 0.00443625, ..., 0.00409921, 0.00917089,\n",
              "         0.00878004],\n",
              "        [0.01024679, 0.01062513, 0.00455064, ..., 0.00424139, 0.009527  ,\n",
              "         0.00912735],\n",
              "        [0.00426023, 0.00439418, 0.00182193, ..., 0.00179294, 0.00412529,\n",
              "         0.0039686 ],\n",
              "        ...,\n",
              "        [0.01256484, 0.01315553, 0.00596034, ..., 0.00481204, 0.00874327,\n",
              "         0.00803166],\n",
              "        [0.02214162, 0.0234297 , 0.0112448 , ..., 0.01109694, 0.01966908,\n",
              "         0.01796636],\n",
              "        [0.02019751, 0.02142509, 0.01041527, ..., 0.01067954, 0.01884899,\n",
              "         0.01720028]], dtype=float32),\n",
              " array([[0.02246832, 0.02995776, 0.0374472 , ..., 0.01142049, 0.00913642,\n",
              "         0.00685228],\n",
              "        [0.03145565, 0.04194086, 0.05242608, ..., 0.01598868, 0.01279099,\n",
              "         0.00959319],\n",
              "        [0.03236029, 0.04314706, 0.05393382, ..., 0.01625375, 0.01300305,\n",
              "         0.00975223],\n",
              "        ...,\n",
              "        [0.02948194, 0.03930925, 0.04913656, ..., 0.07999487, 0.06399614,\n",
              "         0.0479968 ],\n",
              "        [0.02827863, 0.03770484, 0.04713105, ..., 0.07648154, 0.06118547,\n",
              "         0.04588881],\n",
              "        [0.02019902, 0.02693203, 0.03366503, ..., 0.05462967, 0.04370391,\n",
              "         0.03277772]], dtype=float32),\n",
              " array([[0.06458586, 0.03745872, 0.02153829, ..., 0.04983952, 0.06383331,\n",
              "         0.0808577 ],\n",
              "        [0.0901407 , 0.0522801 , 0.03006039, ..., 0.06955964, 0.08909039,\n",
              "         0.11285086],\n",
              "        [0.09483749, 0.05473736, 0.03127149, ..., 0.07567406, 0.09783184,\n",
              "         0.12486283],\n",
              "        ...,\n",
              "        [0.69462514, 0.8379501 , 0.8436214 , ..., 0.9274404 , 0.8846786 ,\n",
              "         0.7518217 ],\n",
              "        [0.587026  , 0.7149877 , 0.7200312 , ..., 0.80275255, 0.76314795,\n",
              "         0.64682597],\n",
              "        [0.4206046 , 0.5122892 , 0.5159029 , ..., 0.57517284, 0.5467961 ,\n",
              "         0.4634513 ]], dtype=float32),\n",
              " array([[0.01333193, 0.0139428 , 0.00627659, ..., 0.58924794, 0.5098666 ,\n",
              "         0.3526319 ],\n",
              "        [0.01377576, 0.01439311, 0.00644396, ..., 0.79463357, 0.685     ,\n",
              "         0.47263741],\n",
              "        [0.00577548, 0.00599853, 0.0025943 , ..., 0.8125727 , 0.69535583,\n",
              "         0.47756055],\n",
              "        ...,\n",
              "        [0.00444524, 0.00458543, 0.00190232, ..., 0.09260698, 0.11413138,\n",
              "         0.09367017],\n",
              "        [0.00911303, 0.00946056, 0.00408028, ..., 0.0705061 , 0.09227016,\n",
              "         0.07736414],\n",
              "        [0.00858519, 0.00892359, 0.00387694, ..., 0.04459175, 0.06100466,\n",
              "         0.05190834]], dtype=float32),\n",
              " array([[0.08683161, 0.07810607, 0.05726657, ..., 0.07843916, 0.1027845 ,\n",
              "         0.13437602],\n",
              "        [0.12118848, 0.10901049, 0.07992537, ..., 0.10947537, 0.1434535 ,\n",
              "         0.1875449 ],\n",
              "        [0.13148898, 0.11732262, 0.08575352, ..., 0.14044738, 0.17749868,\n",
              "         0.22197597],\n",
              "        ...,\n",
              "        [0.2858678 , 0.29819068, 0.2513134 , ..., 0.5337849 , 0.46331653,\n",
              "         0.41882613],\n",
              "        [0.21095492, 0.20607528, 0.16289708, ..., 0.43585518, 0.3767401 ,\n",
              "         0.35114294],\n",
              "        [0.15114936, 0.1476531 , 0.11671588, ..., 0.31229058, 0.26993456,\n",
              "         0.2515942 ]], dtype=float32),\n",
              " array([[0.05783793, 0.06206379, 0.0319569 , ..., 0.00465969, 0.01009766,\n",
              "         0.00961249],\n",
              "        [0.06227024, 0.06671252, 0.03408358, ..., 0.00481164, 0.01047124,\n",
              "         0.00997578],\n",
              "        [0.03257626, 0.03463412, 0.01703232, ..., 0.00200907, 0.00448661,\n",
              "         0.00429404],\n",
              "        ...,\n",
              "        [0.0152565 , 0.01613928, 0.00773382, ..., 0.78816795, 0.76819867,\n",
              "         0.56866056],\n",
              "        [0.02139532, 0.0228581 , 0.01152011, ..., 0.675329  , 0.6740833 ,\n",
              "         0.5050953 ],\n",
              "        [0.01834854, 0.01966313, 0.01005994, ..., 0.4641822 , 0.4702692 ,\n",
              "         0.35498452]], dtype=float32),\n",
              " array([[0.09342746, 0.12302824, 0.15262903, ..., 0.21245828, 0.17125322,\n",
              "         0.13004984],\n",
              "        [0.13079846, 0.17223954, 0.21368064, ..., 0.2974416 , 0.23975451,\n",
              "         0.18206978],\n",
              "        [0.13741681, 0.1809548 , 0.22449279, ..., 0.3416961 , 0.27542612,\n",
              "         0.20915882],\n",
              "        ...,\n",
              "        [0.14347038, 0.18892635, 0.23438232, ..., 0.49585614, 0.3996877 ,\n",
              "         0.30352318],\n",
              "        [0.1256587 , 0.16547137, 0.20528404, ..., 0.42917782, 0.34594128,\n",
              "         0.2627081 ],\n",
              "        [0.08975622, 0.11819384, 0.14663146, ..., 0.3065556 , 0.24710092,\n",
              "         0.18764864]], dtype=float32),\n",
              " array([[0.00849672, 0.0087873 , 0.00370398, ..., 0.00253518, 0.00633064,\n",
              "         0.00617128],\n",
              "        [0.00878137, 0.00907393, 0.00380478, ..., 0.00258817, 0.0064734 ,\n",
              "         0.00631201],\n",
              "        [0.0036862 , 0.00378898, 0.00153707, ..., 0.00100402, 0.00253849,\n",
              "         0.00247929],\n",
              "        ...,\n",
              "        [0.00955829, 0.00992972, 0.00430039, ..., 0.00193129, 0.00402559,\n",
              "         0.00380456],\n",
              "        [0.01857813, 0.01948601, 0.00891637, ..., 0.00450824, 0.00901182,\n",
              "         0.0084477 ],\n",
              "        [0.01731603, 0.01819812, 0.00841827, ..., 0.00434753, 0.00862869,\n",
              "         0.00807696]], dtype=float32),\n",
              " array([[0.00602815, 0.00803754, 0.01004692, ..., 0.01559037, 0.01247234,\n",
              "         0.0093542 ],\n",
              "        [0.00843941, 0.01125255, 0.01406569, ..., 0.02182652, 0.01746128,\n",
              "         0.01309588],\n",
              "        [0.00857428, 0.01143237, 0.01429046, ..., 0.02220649, 0.01776526,\n",
              "         0.01332386],\n",
              "        ...,\n",
              "        [0.02341343, 0.03121791, 0.03902238, ..., 0.03595382, 0.02876317,\n",
              "         0.02157224],\n",
              "        [0.02275559, 0.03034079, 0.03792598, ..., 0.03503593, 0.02802885,\n",
              "         0.0210215 ],\n",
              "        [0.01625399, 0.02167199, 0.02708999, ..., 0.02502566, 0.02002061,\n",
              "         0.01501536]], dtype=float32),\n",
              " array([[0.01681218, 0.02241624, 0.0280203 , ..., 0.02136081, 0.01708871,\n",
              "         0.01281645],\n",
              "        [0.02353705, 0.03138273, 0.03922842, ..., 0.02990513, 0.02392419,\n",
              "         0.01794303],\n",
              "        [0.02410839, 0.03214452, 0.04018065, ..., 0.03078413, 0.0246274 ,\n",
              "         0.01847043],\n",
              "        ...,\n",
              "        [0.02028566, 0.02704755, 0.03380944, ..., 0.01655957, 0.0132477 ,\n",
              "         0.00993571],\n",
              "        [0.01954199, 0.02605599, 0.03256999, ..., 0.01619739, 0.01295796,\n",
              "         0.00971841],\n",
              "        [0.01395856, 0.01861142, 0.02326427, ..., 0.01156957, 0.00925569,\n",
              "         0.00694172]], dtype=float32),\n",
              " array([[0.0649551 , 0.09098104, 0.06256992, ..., 0.11330115, 0.13084586,\n",
              "         0.09117381],\n",
              "        [0.09045894, 0.12670366, 0.08713725, ..., 0.15778749, 0.1822209 ,\n",
              "         0.12697211],\n",
              "        [0.09481327, 0.13280243, 0.09132966, ..., 0.17347603, 0.20290738,\n",
              "         0.14160042],\n",
              "        ...,\n",
              "        [0.09051123, 0.13246837, 0.13335165, ..., 0.23575848, 0.3158987 ,\n",
              "         0.22375312],\n",
              "        [0.08377604, 0.12243721, 0.12201871, ..., 0.21274734, 0.28407797,\n",
              "         0.20114344],\n",
              "        [0.06015672, 0.08791798, 0.08761748, ..., 0.15276662, 0.2039867 ,\n",
              "         0.14443424]], dtype=float32),\n",
              " array([[0.01170894, 0.01218963, 0.00534506, ..., 0.0062522 , 0.01306572,\n",
              "         0.01235436],\n",
              "        [0.01213193, 0.01261734, 0.0055002 , ..., 0.0065432 , 0.0137679 ,\n",
              "         0.01303519],\n",
              "        [0.00517196, 0.00534633, 0.00224711, ..., 0.00295707, 0.00646177,\n",
              "         0.00616059],\n",
              "        ...,\n",
              "        [0.00677036, 0.00700608, 0.00296395, ..., 0.00185628, 0.0039187 ,\n",
              "         0.00371244],\n",
              "        [0.01325905, 0.01382571, 0.00611968, ..., 0.0043271 , 0.00889432,\n",
              "         0.00838344],\n",
              "        [0.01237754, 0.01292664, 0.00577316, ..., 0.00417188, 0.00853659,\n",
              "         0.00803921]], dtype=float32),\n",
              " array([[0.01750509, 0.01824033, 0.00804075, ..., 0.00406938, 0.00873997,\n",
              "         0.00830645],\n",
              "        [0.01829782, 0.01904781, 0.00834926, ..., 0.00422103, 0.00908863,\n",
              "         0.00864183],\n",
              "        [0.0082132 , 0.00850255, 0.00360577, ..., 0.00181142, 0.00395931,\n",
              "         0.00377494],\n",
              "        ...,\n",
              "        [0.01461291, 0.0194795 , 0.01947076, ..., 0.00244788, 0.00511091,\n",
              "         0.00483182],\n",
              "        [0.02869512, 0.03645493, 0.03284448, ..., 0.00552025, 0.01116973,\n",
              "         0.01049585],\n",
              "        [0.02680217, 0.03370699, 0.0296485 , ..., 0.00529232, 0.01064935,\n",
              "         0.0099959 ]], dtype=float32),\n",
              " array([[0.29255444, 0.4306299 , 0.4509763 , ..., 0.3964102 , 0.36988214,\n",
              "         0.2504133 ],\n",
              "        [0.4081315 , 0.6007553 , 0.6291398 , ..., 0.5530167 , 0.5160084 ,\n",
              "         0.34934202],\n",
              "        [0.47339785, 0.6973664 , 0.73413986, ..., 0.63353014, 0.5923187 ,\n",
              "         0.4011269 ],\n",
              "        ...,\n",
              "        [0.61183655, 0.89693195, 0.9133852 , ..., 0.8609459 , 0.8456853 ,\n",
              "         0.5769019 ],\n",
              "        [0.5284132 , 0.77468574, 0.78924894, ..., 0.74072826, 0.7275652 ,\n",
              "         0.49632064],\n",
              "        [0.37877375, 0.55530524, 0.56574434, ..., 0.530964  , 0.5215286 ,\n",
              "         0.35576934]], dtype=float32),\n",
              " array([[0.0520724 , 0.0731779 , 0.05309493, ..., 0.04976845, 0.05530381,\n",
              "         0.03839975],\n",
              "        [0.05976679, 0.08399741, 0.06099193, ..., 0.05806772, 0.06322189,\n",
              "         0.0437815 ],\n",
              "        [0.03907834, 0.05493715, 0.0400036 , ..., 0.04024626, 0.04072563,\n",
              "         0.0279217 ],\n",
              "        ...,\n",
              "        [0.44364965, 0.65319455, 0.68778265, ..., 0.44202456, 0.40471095,\n",
              "         0.2733094 ],\n",
              "        [0.42863172, 0.6261892 , 0.62574446, ..., 0.3913673 , 0.38235676,\n",
              "         0.26080915],\n",
              "        [0.31439796, 0.45747405, 0.444481  , ..., 0.27371252, 0.2772183 ,\n",
              "         0.19008629]], dtype=float32),\n",
              " array([[0.00887601, 0.00919639, 0.00391981, ..., 0.00286029, 0.00701128,\n",
              "         0.00681508],\n",
              "        [0.00918661, 0.00950928, 0.0040302 , ..., 0.00292566, 0.00718459,\n",
              "         0.00698555],\n",
              "        [0.00389047, 0.00400412, 0.00163776, ..., 0.00114954, 0.00285704,\n",
              "         0.00278309],\n",
              "        ...,\n",
              "        [0.00790342, 0.00816858, 0.00342994, ..., 0.00166163, 0.00359883,\n",
              "         0.00342558],\n",
              "        [0.0163339 , 0.01699675, 0.00743317, ..., 0.00396024, 0.00824068,\n",
              "         0.00778567],\n",
              "        [0.01541186, 0.01605812, 0.00707608, ..., 0.00383217, 0.0079212 ,\n",
              "         0.00747429]], dtype=float32),\n",
              " array([[0.01063574, 0.01418098, 0.01772622, ..., 0.04050195, 0.03240168,\n",
              "         0.02430111],\n",
              "        [0.01489003, 0.01985337, 0.02481671, ..., 0.05670273, 0.04536236,\n",
              "         0.03402155],\n",
              "        [0.01521309, 0.02028412, 0.02535515, ..., 0.0591347 , 0.04730793,\n",
              "         0.03548073],\n",
              "        ...,\n",
              "        [0.02519397, 0.03359196, 0.04198994, ..., 0.01330104, 0.01064087,\n",
              "         0.0079806 ],\n",
              "        [0.02418782, 0.03225042, 0.04031302, ..., 0.01304431, 0.01043549,\n",
              "         0.00782657],\n",
              "        [0.01727701, 0.02303601, 0.02879502, ..., 0.00931737, 0.00745392,\n",
              "         0.0055904 ]], dtype=float32),\n",
              " array([[0.00770958, 0.00795086, 0.0032937 , ..., 0.01855634, 0.03475219,\n",
              "         0.03213758],\n",
              "        [0.00794866, 0.00819134, 0.00337759, ..., 0.01955653, 0.03696757,\n",
              "         0.03425481],\n",
              "        [0.00328712, 0.00337174, 0.00134957, ..., 0.009186  , 0.01823021,\n",
              "         0.01706423],\n",
              "        ...,\n",
              "        [0.00867081, 0.00898889, 0.00384451, ..., 0.00178583, 0.00383722,\n",
              "         0.00364719],\n",
              "        [0.01750089, 0.01828801, 0.00819499, ..., 0.00429601, 0.0088546 ,\n",
              "         0.00835043],\n",
              "        [0.01643695, 0.01720318, 0.00777768, ..., 0.00416333, 0.00852247,\n",
              "         0.00802653]], dtype=float32),\n",
              " array([[0.02100768, 0.02939343, 0.02039952, ..., 0.02099773, 0.02758485,\n",
              "         0.01953181],\n",
              "        [0.02345533, 0.03280504, 0.02267269, ..., 0.02338033, 0.03064523,\n",
              "         0.02169351],\n",
              "        [0.01375357, 0.01920355, 0.01303788, ..., 0.01355125, 0.01758891,\n",
              "         0.01243798],\n",
              "        ...,\n",
              "        [0.01495553, 0.02097391, 0.01490672, ..., 0.05858921, 0.07090576,\n",
              "         0.04974918],\n",
              "        [0.02345938, 0.03298359, 0.02404573, ..., 0.07586953, 0.09707107,\n",
              "         0.06853672],\n",
              "        [0.0205777 , 0.02895128, 0.02124477, ..., 0.0628557 , 0.08188645,\n",
              "         0.05792901]], dtype=float32),\n",
              " array([[0.02286408, 0.02230788, 0.00911683, ..., 0.00483216, 0.01294894,\n",
              "         0.01347188],\n",
              "        [0.0341637 , 0.03333262, 0.01362245, ..., 0.00722025, 0.01934841,\n",
              "         0.0201298 ],\n",
              "        [0.02576385, 0.02503721, 0.00999681, ..., 0.00519347, 0.0141177 ,\n",
              "         0.01472039],\n",
              "        ...,\n",
              "        [0.06202927, 0.06259789, 0.03047909, ..., 0.00511964, 0.01194547,\n",
              "         0.01214001],\n",
              "        [0.06539739, 0.06654003, 0.03363618, ..., 0.00716767, 0.01647653,\n",
              "         0.01669874],\n",
              "        [0.04376737, 0.04453209, 0.0225111 , ..., 0.00479698, 0.01102696,\n",
              "         0.01117568]], dtype=float32),\n",
              " array([[0.24139152, 0.35888794, 0.4010491 , ..., 0.2762261 , 0.26843944,\n",
              "         0.18283856],\n",
              "        [0.33675608, 0.50067085, 0.55948824, ..., 0.3853525 , 0.37448958,\n",
              "         0.25507107],\n",
              "        [0.395056  , 0.5868818 , 0.65256643, ..., 0.4839708 , 0.46581495,\n",
              "         0.31682765],\n",
              "        ...,\n",
              "        [0.42954782, 0.6317337 , 0.6577275 , ..., 0.7190943 , 0.68707794,\n",
              "         0.46681774],\n",
              "        [0.360256  , 0.5297269 , 0.5508189 , ..., 0.60785526, 0.5811781 ,\n",
              "         0.3949057 ],\n",
              "        [0.25823638, 0.37971544, 0.39483443, ..., 0.4357189 , 0.41659632,\n",
              "         0.28307375]], dtype=float32),\n",
              " array([[0.0141557 , 0.0148672 , 0.00685309, ..., 0.00344201, 0.00793539,\n",
              "         0.00763656],\n",
              "        [0.01476786, 0.01548823, 0.00708371, ..., 0.00354808, 0.00820222,\n",
              "         0.00789697],\n",
              "        [0.00655507, 0.00681881, 0.00297622, ..., 0.00146555, 0.00344562,\n",
              "         0.00332674],\n",
              "        ...,\n",
              "        [0.01385086, 0.01452122, 0.00662803, ..., 0.00256714, 0.00536506,\n",
              "         0.00507302],\n",
              "        [0.02420437, 0.02565444, 0.01241835, ..., 0.00578607, 0.01169625,\n",
              "         0.01098851],\n",
              "        [0.02203584, 0.02341579, 0.01148513, ..., 0.00554665, 0.01114639,\n",
              "         0.01045969]], dtype=float32),\n",
              " array([[0.00968964, 0.01291952, 0.0161494 , ..., 0.01137513, 0.00910013,\n",
              "         0.00682506],\n",
              "        [0.0135655 , 0.01808733, 0.02260916, ..., 0.01592517, 0.01274019,\n",
              "         0.00955508],\n",
              "        [0.01383865, 0.01845153, 0.02306441, ..., 0.01619252, 0.01295407,\n",
              "         0.00971549],\n",
              "        ...,\n",
              "        [0.02431488, 0.03241984, 0.0405248 , ..., 0.02365692, 0.01892561,\n",
              "         0.01419412],\n",
              "        [0.02337483, 0.03116644, 0.03895806, ..., 0.02314512, 0.01851616,\n",
              "         0.01388703],\n",
              "        [0.01669631, 0.02226175, 0.02782718, ..., 0.01653223, 0.01322583,\n",
              "         0.00991931]], dtype=float32),\n",
              " array([[0.06646181, 0.08751902, 0.10857622, ..., 0.43055528, 0.3470516 ,\n",
              "         0.26355127],\n",
              "        [0.09304653, 0.12252662, 0.15200672, ..., 0.60277736, 0.4858722 ,\n",
              "         0.36897177],\n",
              "        [0.09560016, 0.12588932, 0.15617847, ..., 0.7060472 , 0.56911343,\n",
              "         0.4321852 ],\n",
              "        ...,\n",
              "        [0.15218297, 0.20039934, 0.24861571, ..., 0.25825256, 0.20816599,\n",
              "         0.15808143],\n",
              "        [0.13847616, 0.18234979, 0.22622341, ..., 0.24014708, 0.19357194,\n",
              "         0.1469987 ],\n",
              "        [0.09891154, 0.13024984, 0.16158816, ..., 0.17153363, 0.13826567,\n",
              "         0.10499907]], dtype=float32),\n",
              " array([[0.46357518, 0.5694135 , 0.59982055, ..., 0.45007   , 0.4017572 ,\n",
              "         0.32438746],\n",
              "        [0.6469991 , 0.7947147 , 0.837153  , ..., 0.6281503 , 0.56072146,\n",
              "         0.4527386 ],\n",
              "        [0.7455303 , 0.9148743 , 0.96338207, ..., 0.74616385, 0.67162794,\n",
              "         0.5432064 ],\n",
              "        ...,\n",
              "        [0.52098614, 0.68628013, 0.7452849 , ..., 0.14221443, 0.15134858,\n",
              "         0.18006767],\n",
              "        [0.43369287, 0.57805836, 0.6313656 , ..., 0.09272168, 0.11529098,\n",
              "         0.14740081],\n",
              "        [0.31074128, 0.41417927, 0.45237392, ..., 0.06643515, 0.08260608,\n",
              "         0.1056128 ]], dtype=float32),\n",
              " array([[0.02338385, 0.02495641, 0.0125123 , ..., 0.00851272, 0.0172846 ,\n",
              "         0.01625291],\n",
              "        [0.02461792, 0.02622205, 0.01301836, ..., 0.00900454, 0.01847764,\n",
              "         0.01741065],\n",
              "        [0.01149682, 0.01211571, 0.00568894, ..., 0.00431302, 0.00934066,\n",
              "         0.00889086],\n",
              "        ...,\n",
              "        [0.00789215, 0.00819807, 0.00354848, ..., 0.00172119, 0.00368212,\n",
              "         0.00349694],\n",
              "        [0.0149816 , 0.01569529, 0.00713495, ..., 0.00392786, 0.00816142,\n",
              "         0.00770865],\n",
              "        [0.01389474, 0.01458293, 0.00669614, ..., 0.0037734 , 0.0078008 ,\n",
              "         0.00736088]], dtype=float32),\n",
              " array([[0.0779309 , 0.10945   , 0.07745445, ..., 0.32755882, 0.30257073,\n",
              "         0.20452674],\n",
              "        [0.10852953, 0.15242423, 0.10786601, ..., 0.45617086, 0.42137152,\n",
              "         0.2848317 ],\n",
              "        [0.11438618, 0.16064028, 0.11361135, ..., 0.55851716, 0.5221043 ,\n",
              "         0.35356835],\n",
              "        ...,\n",
              "        [0.08620278, 0.12725626, 0.1358739 , ..., 0.15576017, 0.22353409,\n",
              "         0.159395  ],\n",
              "        [0.08065998, 0.1188024 , 0.12493646, ..., 0.1437653 , 0.205624  ,\n",
              "         0.14657724],\n",
              "        [0.05791918, 0.08530795, 0.08971261, ..., 0.10323296, 0.14765158,\n",
              "         0.10525211]], dtype=float32),\n",
              " array([[0.01919213, 0.02032626, 0.00979976, ..., 0.01762195, 0.02875284,\n",
              "         0.02573872],\n",
              "        [0.02011223, 0.0212652 , 0.01016299, ..., 0.01866691, 0.0306884 ,\n",
              "         0.02752436],\n",
              "        [0.00915767, 0.00959224, 0.00435627, ..., 0.00900886, 0.01539095,\n",
              "         0.01393649],\n",
              "        ...,\n",
              "        [0.00839476, 0.00871222, 0.00375062, ..., 0.00135942, 0.00294733,\n",
              "         0.00280596],\n",
              "        [0.01592687, 0.01667064, 0.00754025, ..., 0.00312809, 0.00658148,\n",
              "         0.00623113],\n",
              "        [0.0147697 , 0.01548739, 0.0070763 , ..., 0.00300932, 0.00629892,\n",
              "         0.00595779]], dtype=float32),\n",
              " array([[0.01323246, 0.01385021, 0.00626406, ..., 0.00903449, 0.01810973,\n",
              "         0.01698551],\n",
              "        [0.01373493, 0.01435934, 0.00645154, ..., 0.00956998, 0.01939134,\n",
              "         0.01822651],\n",
              "        [0.00591823, 0.00614413, 0.00265046, ..., 0.00461796, 0.00988141,\n",
              "         0.00938485],\n",
              "        ...,\n",
              "        [0.00354144, 0.00363481, 0.00146059, ..., 0.00243831, 0.00508958,\n",
              "         0.00481141],\n",
              "        [0.00765138, 0.00789049, 0.0032678 , ..., 0.00550971, 0.01113015,\n",
              "         0.01045527],\n",
              "        [0.00727976, 0.00751375, 0.00312856, ..., 0.00528406, 0.01061282,\n",
              "         0.0099579 ]], dtype=float32)]"
            ]
          },
          "metadata": {},
          "execution_count": 146
        }
      ]
    },
    {
      "cell_type": "code",
      "source": [
        "ix=random.randint(0, len(preds_train_t))\n",
        "imshow(X_train[ix])\n",
        "plt.show()\n",
        "imshow(np.squeeze(Y_train[ix]))\n",
        "plt.show()\n",
        "imshow(np.squeeze(preds_train_t[ix]))\n",
        "plt.show()"
      ],
      "metadata": {
        "colab": {
          "base_uri": "https://localhost:8080/",
          "height": 856
        },
        "id": "k0EFq6X8o7U3",
        "outputId": "a73ba345-5739-4d7b-b313-e7139dd5f66a"
      },
      "execution_count": 151,
      "outputs": [
        {
          "output_type": "display_data",
          "data": {
            "image/png": "[encoded data removed]",
            "text/plain": [
              "<Figure size 432x288 with 1 Axes>"
            ]
          },
          "metadata": {
            "needs_background": "light"
          }
        },
        {
          "output_type": "display_data",
          "data": {
            "image/png": "[encoded data removed]",
            "text/plain": [
              "<Figure size 432x288 with 1 Axes>"
            ]
          },
          "metadata": {
            "needs_background": "light"
          }
        },
        {
          "output_type": "display_data",
          "data": {
            "image/png": "[encoded data removed]",
            "text/plain": [
              "<Figure size 432x288 with 2 Axes>"
            ]
          },
          "metadata": {
            "needs_background": "light"
          }
        }
      ]
    },
    {
      "cell_type": "code",
      "source": [
        "ix=random.randint(0, len(preds_val_t))\n",
        "imshow(X_train[int(X_train.shape[0]*0.9):][ix])\n",
        "plt.show()\n",
        "imshow(np.squeeze(Y_train[int(Y_train.shape[0]*0.9):][ix]))\n",
        "plt.show()\n",
        "imshow(np.squeeze(preds_val_t[ix]))\n",
        "plt.show()"
      ],
      "metadata": {
        "colab": {
          "base_uri": "https://localhost:8080/",
          "height": 856
        },
        "id": "2hcLbNT-pl0Y",
        "outputId": "30173465-c8f6-421f-9a45-be3708303d50"
      },
      "execution_count": 152,
      "outputs": [
        {
          "output_type": "display_data",
          "data": {
            "image/png": "[encoded data removed]",
            "text/plain": [
              "<Figure size 432x288 with 1 Axes>"
            ]
          },
          "metadata": {
            "needs_background": "light"
          }
        },
        {
          "output_type": "display_data",
          "data": {
            "image/png": "[encoded data removed]",
            "text/plain": [
              "<Figure size 432x288 with 1 Axes>"
            ]
          },
          "metadata": {
            "needs_background": "light"
          }
        },
        {
          "output_type": "display_data",
          "data": {
            "image/png": "[encoded data removed]",
            "text/plain": [
              "<Figure size 432x288 with 2 Axes>"
            ]
          },
          "metadata": {
            "needs_background": "light"
          }
        }
      ]
    },
    {
      "cell_type": "code",
      "source": [
        ""
      ],
      "metadata": {
        "id": "H5ghY30crLCn"
      },
      "execution_count": null,
      "outputs": []
    }
  ]
}